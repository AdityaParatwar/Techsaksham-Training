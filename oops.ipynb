{
 "cells": [
  {
   "cell_type": "code",
   "execution_count": 21,
   "id": "7d9fe44d-28df-4e3a-99da-6675fdefb6be",
   "metadata": {},
   "outputs": [
    {
     "name": "stdout",
     "output_type": "stream",
     "text": [
      "name of student is aditya and id is: 55\n",
      "name of student is aditya and id is: 66\n"
     ]
    }
   ],
   "source": [
    "class student:\n",
    "    def __init__(self,name,stdid):\n",
    "        self.name = name\n",
    "        self.stdid = stdid\n",
    "    def display(self):\n",
    "        print(\"name of student is {} and id is: {}\".format(self.name,self.stdid))\n",
    "\n",
    "s1.stdid = 55\n",
    "s1.name = \"aditya\"\n",
    "s1.display()\n",
    "s1.stdid = 66\n",
    "s1.display()"
   ]
  },
  {
   "cell_type": "code",
   "execution_count": 37,
   "id": "967490a2-b551-4cfb-b004-d56772c91099",
   "metadata": {},
   "outputs": [
    {
     "name": "stdout",
     "output_type": "stream",
     "text": [
      "False\n",
      "True\n"
     ]
    }
   ],
   "source": [
    "# comparision magic methods\n",
    "class Point:\n",
    "    def __init__(self, x,y):\n",
    "        self.x = x\n",
    "        self.y = y\n",
    "    def __eq__(self,other):\n",
    "        return self.x == other.x and self.y == other.y\n",
    "    def __lt__(self, other):\n",
    "        return self.x < other.x and self.y < other.y\n",
    "point = Point(3,9)\n",
    "another_point = Point(13,19)\n",
    "print(point == another_point)\n",
    "print(point < another_point)"
   ]
  },
  {
   "cell_type": "code",
   "execution_count": 39,
   "id": "6ba83985-d7a1-4375-a09e-ea4dcf0d7a6e",
   "metadata": {},
   "outputs": [
    {
     "name": "stdout",
     "output_type": "stream",
     "text": [
      "16 28\n",
      "-10 -10\n"
     ]
    }
   ],
   "source": [
    "# numeric magic method\n",
    "class Point:\n",
    "    def __init__(self, x,y):\n",
    "        self.x = x\n",
    "        self.y = y\n",
    "    \n",
    "    def __add__(self, other):\n",
    "        return Point(self.x + other.x, self.y + other.y)\n",
    "    \n",
    "    def __sub__(self, other):\n",
    "        return Point(self.x - other.x, self.y - other.y)\n",
    "point = Point(3,9)\n",
    "another_point = Point(13,19)\n",
    "comp_add = point + another_point\n",
    "print(comp_add.x, comp_add.y)\n",
    "comp_sub = point - another_point\n",
    "print(comp_sub.x, comp_sub.y)"
   ]
  },
  {
   "cell_type": "code",
   "execution_count": 41,
   "id": "0f500ec2-40ab-4acd-8f32-f588c44fd772",
   "metadata": {},
   "outputs": [],
   "source": [
    "# delete a object property\n",
    "del point.y"
   ]
  },
  {
   "cell_type": "code",
   "execution_count": 43,
   "id": "caacfd42-825a-474d-be9c-e6927edc27f1",
   "metadata": {},
   "outputs": [
    {
     "ename": "AttributeError",
     "evalue": "'Point' object has no attribute 'y'",
     "output_type": "error",
     "traceback": [
      "\u001b[1;31m---------------------------------------------------------------------------\u001b[0m",
      "\u001b[1;31mAttributeError\u001b[0m                            Traceback (most recent call last)",
      "Cell \u001b[1;32mIn[43], line 1\u001b[0m\n\u001b[1;32m----> 1\u001b[0m point\u001b[38;5;241m.\u001b[39my\n\u001b[0;32m      2\u001b[0m another_point\u001b[38;5;241m.\u001b[39my\n\u001b[0;32m      3\u001b[0m \u001b[38;5;28;01mdel\u001b[39;00m another_point\n",
      "\u001b[1;31mAttributeError\u001b[0m: 'Point' object has no attribute 'y'"
     ]
    }
   ],
   "source": []
  },
  {
   "cell_type": "code",
   "execution_count": 45,
   "id": "c8c6b53a-3445-41bc-84c3-9e7a60142782",
   "metadata": {},
   "outputs": [
    {
     "name": "stdout",
     "output_type": "stream",
     "text": [
      "All Animals eats\n"
     ]
    }
   ],
   "source": [
    "class Animal:\n",
    "    def eat(self):\n",
    "        print('All Animals eats')\n",
    "\n",
    "class Mammal(Animal):\n",
    "    def walk(self):\n",
    "        print('walk')\n",
    "\n",
    "class Fish:\n",
    "    def eat(self):\n",
    "        print('Fish eats')\n",
    "    \n",
    "    def swim(self):\n",
    "        print('swim')\n",
    "obj = Mammal()\n",
    "obj.eat()"
   ]
  },
  {
   "cell_type": "code",
   "execution_count": 49,
   "id": "7e40a7e4-075d-4087-831f-b6097beb0e52",
   "metadata": {},
   "outputs": [
    {
     "name": "stdout",
     "output_type": "stream",
     "text": [
      "Weight : 10\n",
      "age : 1\n"
     ]
    }
   ],
   "source": [
    "# method overriding\n",
    "class Animal:\n",
    "    def __init__(self):\n",
    "        self.age = 1\n",
    "        print('age :', self.age)\n",
    "    \n",
    "    def eat(self):\n",
    "        print('All Animals eats')\n",
    "\n",
    "class Mammal(Animal):\n",
    "    def __init__(self):\n",
    "        self.weight = 10\n",
    "        print(\"Weight :\",self.weight)\n",
    "        \n",
    "    def walk(self):\n",
    "        print('walk')\n",
    "\n",
    "class Fish:\n",
    "    def eat(self):\n",
    "        print('Fish eats')\n",
    "    \n",
    "    def swim(self):\n",
    "        print('swim')\n",
    "obj = Mammal()\n",
    "obj1 = Animal()"
   ]
  },
  {
   "cell_type": "code",
   "execution_count": 53,
   "id": "76a55bb8-6788-4d01-989d-28071cf22b62",
   "metadata": {},
   "outputs": [
    {
     "name": "stdout",
     "output_type": "stream",
     "text": [
      "age : 1\n",
      "Fish eats\n"
     ]
    }
   ],
   "source": [
    "class Animal:  # parent\n",
    "    def __init__(self):\n",
    "        self.age = 1\n",
    "        print('age :', self.age)\n",
    "    \n",
    "    def eat(self):\n",
    "        print('All Animals eats')\n",
    "\n",
    "class Mammal(Animal): # child\n",
    "    def __init__(self):\n",
    "        self.weight = 10\n",
    "        print(\"Weight :\",self.weight)\n",
    "        \n",
    "    def walk(self):\n",
    "        print('walk')\n",
    "\n",
    "class Fish(Animal):\n",
    "    def eat(self):\n",
    "        print('Fish eats')\n",
    "    \n",
    "    def swim(self):\n",
    "        print('swim')\n",
    "fishobj = Fish()\n",
    "fishobj.eat()"
   ]
  },
  {
   "cell_type": "code",
   "execution_count": 55,
   "id": "480b5ec3-b1b5-4574-a390-1117f64fd016",
   "metadata": {},
   "outputs": [
    {
     "name": "stdout",
     "output_type": "stream",
     "text": [
      "Weight : 10\n",
      "age : 1\n"
     ]
    }
   ],
   "source": [
    "# Single inheritance\n",
    "class Animal:\n",
    "    def __init__(self):\n",
    "        self.age = 1\n",
    "        print('age :', self.age)\n",
    "    \n",
    "    def eat(self):\n",
    "        print('All Animals eats')\n",
    "\n",
    "class Mammal(Animal):\n",
    "    def __init__(self):\n",
    "        self.weight = 10\n",
    "        print(\"Weight :\",self.weight)\n",
    "        super().__init__()\n",
    "\n",
    "        \n",
    "    def walk(self):\n",
    "        print('walk')\n",
    "new_obj = Mammal()"
   ]
  },
  {
   "cell_type": "code",
   "execution_count": 57,
   "id": "8e7562b6-6981-43c2-bd23-4f564d136aab",
   "metadata": {},
   "outputs": [
    {
     "name": "stdout",
     "output_type": "stream",
     "text": [
      "Animal eats\n",
      "Chicken can't fly like other birds\n"
     ]
    }
   ],
   "source": [
    "#Multi-level Inheritance\n",
    "class Animal:\n",
    "    def eat(self):\n",
    "        print(\"Animal eats\")\n",
    "\n",
    "class Bird(Animal):\n",
    "    def fly(self):\n",
    "        print(\"Bird can fly\")\n",
    "\n",
    "class Chicken(Bird):\n",
    "    def fly(self):\n",
    "        print(\"Chicken can't fly like other birds\")\n",
    "\n",
    "chicken_obj = Chicken()\n",
    "chicken_obj.eat()\n",
    "chicken_obj.fly()\n"
   ]
  },
  {
   "cell_type": "code",
   "execution_count": 59,
   "id": "2e6b78d9-b920-4204-8644-c82f6216bf75",
   "metadata": {},
   "outputs": [
    {
     "name": "stdout",
     "output_type": "stream",
     "text": [
      "Manager class\n",
      "Last greet method\n"
     ]
    }
   ],
   "source": [
    "# multiple inheritance\n",
    "class Employee:\n",
    "    def greet(self):\n",
    "        print(\"Employee class\")\n",
    "\n",
    "class Person:\n",
    "    def greet(self):\n",
    "        print(\"Last greet method\")\n",
    "   \n",
    "class Manager(Person, Employee):\n",
    "    def __init__(self):\n",
    "        print(\"Manager class\")\n",
    "man_obj = Manager()\n",
    "man_obj.greet()"
   ]
  },
  {
   "cell_type": "code",
   "execution_count": 61,
   "id": "a0e20380-456f-45b4-bd9d-cd6bcfe488c4",
   "metadata": {},
   "outputs": [],
   "source": [
    "# abstract method\n",
    "from abc import ABC, abstractmethod\n",
    "\n",
    "class File(ABC):\n",
    "    def __init__(self):\n",
    "        self.opened = False\n",
    "    \n",
    "    def open_file(self):\n",
    "        if self.opened:\n",
    "            print(\"File is already opened\")\n",
    "        self.opened = True\n",
    "        \n",
    "    def close(self):\n",
    "        if not self.opened:\n",
    "            print(\"File is already closed\")\n",
    "        self.opened = False\n",
    "    \n",
    "    @abstractmethod\n",
    "    def read(self):\n",
    "        pass"
   ]
  },
  {
   "cell_type": "code",
   "execution_count": 63,
   "id": "92c9e6cc-3349-49eb-9158-c84f8d9f77aa",
   "metadata": {},
   "outputs": [],
   "source": [
    "class NetworkFile(File):\n",
    "    def read(self):\n",
    "        print(\"Reading data from a Network\")\n",
    "        \n",
    "networkfile = NetworkFile()"
   ]
  },
  {
   "cell_type": "code",
   "execution_count": null,
   "id": "0fdbb18a-b02b-4243-baad-1fbb9b522f7f",
   "metadata": {},
   "outputs": [],
   "source": [
    "class MemoryFile(File):\n",
    "    def reading(self):\n",
    "        pass\n",
    "\n",
    "memoryfile = MemoryFile()"
   ]
  },
  {
   "cell_type": "code",
   "execution_count": 70,
   "id": "74484032-f746-4bec-9e7a-30b4213fa74f",
   "metadata": {},
   "outputs": [
    {
     "data": {
      "text/plain": [
       "['__add__',\n",
       " '__class__',\n",
       " '__contains__',\n",
       " '__delattr__',\n",
       " '__dir__',\n",
       " '__doc__',\n",
       " '__eq__',\n",
       " '__format__',\n",
       " '__ge__',\n",
       " '__getattribute__',\n",
       " '__getitem__',\n",
       " '__getnewargs__',\n",
       " '__getstate__',\n",
       " '__gt__',\n",
       " '__hash__',\n",
       " '__init__',\n",
       " '__init_subclass__',\n",
       " '__iter__',\n",
       " '__le__',\n",
       " '__len__',\n",
       " '__lt__',\n",
       " '__mod__',\n",
       " '__mul__',\n",
       " '__ne__',\n",
       " '__new__',\n",
       " '__reduce__',\n",
       " '__reduce_ex__',\n",
       " '__repr__',\n",
       " '__rmod__',\n",
       " '__rmul__',\n",
       " '__setattr__',\n",
       " '__sizeof__',\n",
       " '__str__',\n",
       " '__subclasshook__',\n",
       " 'capitalize',\n",
       " 'casefold',\n",
       " 'center',\n",
       " 'count',\n",
       " 'encode',\n",
       " 'endswith',\n",
       " 'expandtabs',\n",
       " 'find',\n",
       " 'format',\n",
       " 'format_map',\n",
       " 'index',\n",
       " 'isalnum',\n",
       " 'isalpha',\n",
       " 'isascii',\n",
       " 'isdecimal',\n",
       " 'isdigit',\n",
       " 'isidentifier',\n",
       " 'islower',\n",
       " 'isnumeric',\n",
       " 'isprintable',\n",
       " 'isspace',\n",
       " 'istitle',\n",
       " 'isupper',\n",
       " 'join',\n",
       " 'ljust',\n",
       " 'lower',\n",
       " 'lstrip',\n",
       " 'maketrans',\n",
       " 'partition',\n",
       " 'removeprefix',\n",
       " 'removesuffix',\n",
       " 'replace',\n",
       " 'rfind',\n",
       " 'rindex',\n",
       " 'rjust',\n",
       " 'rpartition',\n",
       " 'rsplit',\n",
       " 'rstrip',\n",
       " 'split',\n",
       " 'splitlines',\n",
       " 'startswith',\n",
       " 'strip',\n",
       " 'swapcase',\n",
       " 'title',\n",
       " 'translate',\n",
       " 'upper',\n",
       " 'zfill']"
      ]
     },
     "execution_count": 70,
     "metadata": {},
     "output_type": "execute_result"
    }
   ],
   "source": [
    "# entending the built-in method of a class\n",
    "dir(str)"
   ]
  },
  {
   "cell_type": "code",
   "execution_count": 74,
   "id": "81557150-0024-41f4-ac99-1277cbefed2a",
   "metadata": {},
   "outputs": [
    {
     "data": {
      "text/plain": [
       "'PYTHON'"
      ]
     },
     "execution_count": 74,
     "metadata": {},
     "output_type": "execute_result"
    }
   ],
   "source": [
    "class Text(str):\n",
    "    def duplicate(self):\n",
    "        return self + self\n",
    "    \n",
    "text = Text(\"Python\")\n",
    "text.upper()"
   ]
  },
  {
   "cell_type": "code",
   "execution_count": 76,
   "id": "6a6baa29-119c-427b-8ca3-a4dfcd81d026",
   "metadata": {},
   "outputs": [
    {
     "data": {
      "text/plain": [
       "['__add__',\n",
       " '__class__',\n",
       " '__contains__',\n",
       " '__delattr__',\n",
       " '__dict__',\n",
       " '__dir__',\n",
       " '__doc__',\n",
       " '__eq__',\n",
       " '__format__',\n",
       " '__ge__',\n",
       " '__getattribute__',\n",
       " '__getitem__',\n",
       " '__getnewargs__',\n",
       " '__getstate__',\n",
       " '__gt__',\n",
       " '__hash__',\n",
       " '__init__',\n",
       " '__init_subclass__',\n",
       " '__iter__',\n",
       " '__le__',\n",
       " '__len__',\n",
       " '__lt__',\n",
       " '__mod__',\n",
       " '__module__',\n",
       " '__mul__',\n",
       " '__ne__',\n",
       " '__new__',\n",
       " '__reduce__',\n",
       " '__reduce_ex__',\n",
       " '__repr__',\n",
       " '__rmod__',\n",
       " '__rmul__',\n",
       " '__setattr__',\n",
       " '__sizeof__',\n",
       " '__str__',\n",
       " '__subclasshook__',\n",
       " '__weakref__',\n",
       " 'capitalize',\n",
       " 'casefold',\n",
       " 'center',\n",
       " 'count',\n",
       " 'duplicate',\n",
       " 'encode',\n",
       " 'endswith',\n",
       " 'expandtabs',\n",
       " 'find',\n",
       " 'format',\n",
       " 'format_map',\n",
       " 'index',\n",
       " 'isalnum',\n",
       " 'isalpha',\n",
       " 'isascii',\n",
       " 'isdecimal',\n",
       " 'isdigit',\n",
       " 'isidentifier',\n",
       " 'islower',\n",
       " 'isnumeric',\n",
       " 'isprintable',\n",
       " 'isspace',\n",
       " 'istitle',\n",
       " 'isupper',\n",
       " 'join',\n",
       " 'ljust',\n",
       " 'lower',\n",
       " 'lstrip',\n",
       " 'maketrans',\n",
       " 'partition',\n",
       " 'removeprefix',\n",
       " 'removesuffix',\n",
       " 'replace',\n",
       " 'rfind',\n",
       " 'rindex',\n",
       " 'rjust',\n",
       " 'rpartition',\n",
       " 'rsplit',\n",
       " 'rstrip',\n",
       " 'split',\n",
       " 'splitlines',\n",
       " 'startswith',\n",
       " 'strip',\n",
       " 'swapcase',\n",
       " 'title',\n",
       " 'translate',\n",
       " 'upper',\n",
       " 'zfill']"
      ]
     },
     "execution_count": 76,
     "metadata": {},
     "output_type": "execute_result"
    }
   ],
   "source": [
    "dir(Text)"
   ]
  },
  {
   "cell_type": "code",
   "execution_count": 78,
   "id": "a9872eeb-1a41-4f68-a399-a9497d4bbc30",
   "metadata": {},
   "outputs": [
    {
     "data": {
      "text/plain": [
       "'PythonPython'"
      ]
     },
     "execution_count": 78,
     "metadata": {},
     "output_type": "execute_result"
    }
   ],
   "source": [
    "text.duplicate()"
   ]
  },
  {
   "cell_type": "code",
   "execution_count": 84,
   "id": "546f8edc-46d9-4f3f-aa1b-3a1db6bfbb59",
   "metadata": {},
   "outputs": [
    {
     "name": "stdout",
     "output_type": "stream",
     "text": [
      "Manager class\n",
      "Last greet method\n",
      "Manager class\n",
      "Last greet method\n",
      "Manager class\n",
      "Last greet method\n"
     ]
    }
   ],
   "source": [
    "class Employee:\n",
    "    def greet(self):\n",
    "        print(\"Employee class\")\n",
    "\n",
    "class Person:\n",
    "    def greet(self):\n",
    "        print(\"Last greet method\")\n",
    "\n",
    "class Manager(Person, Employee):\n",
    "    def __init__(self):\n",
    "        print(\"Manager class\")\n",
    "\n",
    "class SalesDeptManager(Manager):\n",
    "    pass\n",
    "\n",
    "class MarketingManager(Manager):\n",
    "    pass\n",
    "\n",
    "mgr = Manager()  \n",
    "mgr.greet()  \n",
    "\n",
    "sales_mgr = SalesDeptManager()  \n",
    "sales_mgr.greet()  \n",
    "\n",
    "marketing_mgr = MarketingManager()  \n",
    "marketing_mgr.greet()  \n"
   ]
  },
  {
   "cell_type": "code",
   "execution_count": null,
   "id": "0bcba145-ef31-4f5f-89a2-fa88d2b37bf2",
   "metadata": {},
   "outputs": [],
   "source": []
  }
 ],
 "metadata": {
  "kernelspec": {
   "display_name": "Python [conda env:base] *",
   "language": "python",
   "name": "conda-base-py"
  },
  "language_info": {
   "codemirror_mode": {
    "name": "ipython",
    "version": 3
   },
   "file_extension": ".py",
   "mimetype": "text/x-python",
   "name": "python",
   "nbconvert_exporter": "python",
   "pygments_lexer": "ipython3",
   "version": "3.12.4"
  }
 },
 "nbformat": 4,
 "nbformat_minor": 5
}
