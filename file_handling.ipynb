{
 "cells": [
  {
   "cell_type": "code",
   "execution_count": 44,
   "id": "d1aba3c4-c05d-4d2c-a38e-c1e10d3c7ff1",
   "metadata": {},
   "outputs": [],
   "source": [
    "file_path = \"Machine_Learning_AI.txt\"\n"
   ]
  },
  {
   "cell_type": "code",
   "execution_count": 46,
   "id": "6b10504a-15ae-4dd9-8e4b-a7713f154153",
   "metadata": {},
   "outputs": [
    {
     "name": "stdout",
     "output_type": "stream",
     "text": [
      "Unit 1: Introduction To Python - \n",
      "\n",
      "Intro to the Python Programming language\n",
      "Control structures and functions\n",
      "Importing libraries - Numpy and Pandas Basics\n",
      "Data wrangling and cleaning\n",
      "Exploratory Data Analysis and descriptive statistics\n",
      "\n",
      "Unit 2: Database Management - \n",
      "\n",
      "Introduction to Databases and SQL\n",
      "Retrieving data with SQL\n",
      "Writing SQL Queries\n",
      "Functions and aggregations\n",
      "Joins in SQL\n",
      "\n",
      "Unit 3: Statistics and Data Visualisation - \n",
      "\n",
      "Data Visualisation using matplotlib/seaborn\n",
      "Plotting Data distributions\n",
      "Introduction to probability\n",
      "Discrete and Continuous probability distributions\n",
      "Inferential Statistics and Hypothesis testing\n",
      "\n",
      "Unit 4: Machine Learning:\n",
      "\n",
      "Introduction to machine learning models \n",
      "Simple and Multiple Regression Models\n",
      "Logistic Regression\n",
      "ROC and AUC analysis\n",
      "KNN and Naive Bayes classifier\n",
      "SVM Classification and Regression\n",
      "Tree Based models:\n",
      "- Decision trees\n",
      "- Truncation and pruning\n",
      "- Random Forests and Bagged models\n",
      "- Gradient Boosted models\n",
      "Feature selection methods \n",
      "Model evaluation and hyper parameter tuning \n",
      "Unsupervised Learning:\n",
      "- Clustering (K means and Hierarchical)\n",
      "- Principal Component Analysis\n",
      "Recommender Systems\n",
      "\n",
      "Unit 5 - Artificial Intelligence:\n",
      "\n",
      "Intro to Neural Networks\n",
      "Types of Neural Networks\n",
      "Image classification\n",
      "Deep Learning Neural Networks\n",
      "\n",
      "Intro to NLP\n",
      "Basic Lexical processing\n",
      "Text classification / Topic modelling / Document summarisation\n",
      "Reinforcement Learning Models\n",
      "\n"
     ]
    }
   ],
   "source": [
    "# code pattern for opening a file using `with` keyword\n",
    "with open(file_path,\"r\") as active_file:\n",
    "  file_content = active_file.read()\n",
    "  print(file_content)"
   ]
  },
  {
   "cell_type": "code",
   "execution_count": 48,
   "id": "3326af75-f129-45a6-84c0-7f334f91b89f",
   "metadata": {},
   "outputs": [
    {
     "name": "stdout",
     "output_type": "stream",
     "text": [
      "True\n"
     ]
    }
   ],
   "source": [
    "print(active_file.closed)"
   ]
  },
  {
   "cell_type": "code",
   "execution_count": 52,
   "id": "29ccc512-68af-4276-abf0-be4965f343e5",
   "metadata": {},
   "outputs": [
    {
     "name": "stdout",
     "output_type": "stream",
     "text": [
      "1421\n"
     ]
    }
   ],
   "source": [
    "# check the length of the file content (number of characters of the file)\n",
    "print(len(file_content))"
   ]
  },
  {
   "cell_type": "code",
   "execution_count": 62,
   "id": "5f8ea2b1-9d61-4d18-bfd7-3483073f809c",
   "metadata": {},
   "outputs": [
    {
     "name": "stdout",
     "output_type": "stream",
     "text": [
      "Unit 1: Introduction To Python - \n",
      "\n",
      "Introduction to Databases and SQL\n",
      "\n",
      "Reinforcement Learning Models\n",
      "\n"
     ]
    }
   ],
   "source": [
    "with open(file_path,\"r\") as active_file:\n",
    "    file_content_list = active_file.readlines()\n",
    "    print(file_content_list[0]) # prints the 1st line\n",
    "    print(file_content_list[10]) # prints the 11th line\n",
    "    print(file_content_list[54]) #print the 54th line"
   ]
  },
  {
   "cell_type": "code",
   "execution_count": null,
   "id": "456539eb-0a98-457b-84dd-f078a49a05fe",
   "metadata": {},
   "outputs": [],
   "source": []
  },
  {
   "cell_type": "code",
   "execution_count": null,
   "id": "e8689d23-5cd5-4dc1-bad6-d10fce3bb47c",
   "metadata": {},
   "outputs": [],
   "source": []
  }
 ],
 "metadata": {
  "kernelspec": {
   "display_name": "Python [conda env:base] *",
   "language": "python",
   "name": "conda-base-py"
  },
  "language_info": {
   "codemirror_mode": {
    "name": "ipython",
    "version": 3
   },
   "file_extension": ".py",
   "mimetype": "text/x-python",
   "name": "python",
   "nbconvert_exporter": "python",
   "pygments_lexer": "ipython3",
   "version": "3.12.4"
  }
 },
 "nbformat": 4,
 "nbformat_minor": 5
}
