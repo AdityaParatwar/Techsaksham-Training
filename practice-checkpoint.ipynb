{
 "cells": [
  {
   "cell_type": "code",
   "execution_count": 1,
   "id": "59641c75-1553-48e2-9ae4-d23b5cd1a5b3",
   "metadata": {},
   "outputs": [
    {
     "name": "stdout",
     "output_type": "stream",
     "text": [
      "hello world!\n"
     ]
    }
   ],
   "source": [
    "print(\"hello world!\")"
   ]
  },
  {
   "cell_type": "code",
   "execution_count": 2,
   "id": "5361607f-88dc-4d74-a949-818b7b4ea8b8",
   "metadata": {},
   "outputs": [
    {
     "data": {
      "text/plain": [
       "12"
      ]
     },
     "execution_count": 2,
     "metadata": {},
     "output_type": "execute_result"
    }
   ],
   "source": [
    "len(\"hello world!\")"
   ]
  },
  {
   "cell_type": "code",
   "execution_count": 3,
   "id": "dafe798e-23fe-4f96-a0df-fb4766e4d5ed",
   "metadata": {},
   "outputs": [
    {
     "name": "stdout",
     "output_type": "stream",
     "text": [
      "15\n"
     ]
    }
   ],
   "source": [
    "a = \"aditya was here\"\n",
    "print(len(a))"
   ]
  },
  {
   "cell_type": "code",
   "execution_count": 4,
   "id": "d0a4ee0b-a531-4557-8d23-04c240323328",
   "metadata": {},
   "outputs": [
    {
     "data": {
      "text/plain": [
       "'a'"
      ]
     },
     "execution_count": 4,
     "metadata": {},
     "output_type": "execute_result"
    }
   ],
   "source": [
    "a[0]"
   ]
  },
  {
   "cell_type": "raw",
   "id": "e2721c38-1700-4bea-8dac-c7bae69c456c",
   "metadata": {},
   "source": [
    "a[5]"
   ]
  },
  {
   "cell_type": "code",
   "execution_count": 5,
   "id": "679b943a-bafd-4352-aea5-70923786e982",
   "metadata": {},
   "outputs": [
    {
     "data": {
      "text/plain": [
       "'a'"
      ]
     },
     "execution_count": 5,
     "metadata": {},
     "output_type": "execute_result"
    }
   ],
   "source": [
    "a[5]"
   ]
  },
  {
   "cell_type": "code",
   "execution_count": 6,
   "id": "0da56853-ba3a-4038-b544-2462372aaa8a",
   "metadata": {},
   "outputs": [
    {
     "data": {
      "text/plain": [
       "'ditya was here'"
      ]
     },
     "execution_count": 6,
     "metadata": {},
     "output_type": "execute_result"
    }
   ],
   "source": [
    "a[1:]"
   ]
  },
  {
   "cell_type": "code",
   "execution_count": 7,
   "id": "d57ce948-f6d4-4725-92e0-e48912609964",
   "metadata": {},
   "outputs": [
    {
     "data": {
      "text/plain": [
       "'adity'"
      ]
     },
     "execution_count": 7,
     "metadata": {},
     "output_type": "execute_result"
    }
   ],
   "source": [
    "str = \"aditya was here\"\n",
    "str[:5]"
   ]
  },
  {
   "cell_type": "code",
   "execution_count": 8,
   "id": "36cedc76-681b-4c4d-8e05-d43daa4d0cb6",
   "metadata": {},
   "outputs": [
    {
     "data": {
      "text/plain": [
       "'aditya was here and vivaan was too'"
      ]
     },
     "execution_count": 8,
     "metadata": {},
     "output_type": "execute_result"
    }
   ],
   "source": [
    "str + \" and vivaan was too\""
   ]
  },
  {
   "cell_type": "code",
   "execution_count": 9,
   "id": "690cc29a-1ca2-4b04-afdd-de0b556dd20c",
   "metadata": {},
   "outputs": [
    {
     "data": {
      "text/plain": [
       "'ADITYA WAS HERE'"
      ]
     },
     "execution_count": 9,
     "metadata": {},
     "output_type": "execute_result"
    }
   ],
   "source": [
    "str.upper()"
   ]
  },
  {
   "cell_type": "code",
   "execution_count": 10,
   "id": "97ac816f-cade-4024-ae27-56b441c04791",
   "metadata": {},
   "outputs": [
    {
     "data": {
      "text/plain": [
       "'aditya was here'"
      ]
     },
     "execution_count": 10,
     "metadata": {},
     "output_type": "execute_result"
    }
   ],
   "source": [
    "str.lower()\n"
   ]
  },
  {
   "cell_type": "code",
   "execution_count": 11,
   "id": "9367f021-f591-469d-b4e0-1d78d957ebe2",
   "metadata": {},
   "outputs": [
    {
     "data": {
      "text/plain": [
       "['aditya', 'was', 'here']"
      ]
     },
     "execution_count": 11,
     "metadata": {},
     "output_type": "execute_result"
    }
   ],
   "source": [
    "str.split()"
   ]
  },
  {
   "cell_type": "code",
   "execution_count": 12,
   "id": "7adcb66f-68ca-44c7-9bbc-d8503c481a11",
   "metadata": {},
   "outputs": [
    {
     "name": "stdout",
     "output_type": "stream",
     "text": [
      "ebter name here abdul then also vivaan\n"
     ]
    }
   ],
   "source": [
    "print('ebter name here {} then also {}'.format('abdul','vivaan'))"
   ]
  },
  {
   "cell_type": "code",
   "execution_count": 13,
   "id": "ccf0bd0c-5932-4758-98c4-9609eb8db474",
   "metadata": {},
   "outputs": [
    {
     "name": "stdout",
     "output_type": "stream",
     "text": [
      "the colour was yellow , red, blue\n"
     ]
    }
   ],
   "source": [
    "print('the colour was {2} , {0}, {1}'.format('red','blue','yellow'))"
   ]
  },
  {
   "cell_type": "code",
   "execution_count": 14,
   "id": "a0f8811f-e62d-4cff-8eb7-987b6c19f0b0",
   "metadata": {},
   "outputs": [
    {
     "name": "stdout",
     "output_type": "stream",
     "text": [
      "first obj: 1 , second obj: red , third obj: 11.23\n"
     ]
    }
   ],
   "source": [
    "print('first obj: {a} , second obj: {b} , third obj: {c}'.format(a=1,b=\"red\",c=11.23))"
   ]
  },
  {
   "cell_type": "code",
   "execution_count": 15,
   "id": "5141043f-ff62-4279-bd63-db460e78079b",
   "metadata": {},
   "outputs": [
    {
     "name": "stdout",
     "output_type": "stream",
     "text": [
      "a\n",
      "d\n",
      "i\n",
      "t\n",
      "y\n",
      "a\n",
      " \n",
      "w\n",
      "a\n",
      "s\n",
      " \n",
      "h\n",
      "e\n",
      "r\n",
      "e\n"
     ]
    }
   ],
   "source": [
    "for x in str:\n",
    "    print(x)"
   ]
  },
  {
   "cell_type": "code",
   "execution_count": 16,
   "id": "d9035911-cf3c-4604-ab00-340c88b1bd1c",
   "metadata": {},
   "outputs": [
    {
     "data": {
      "text/plain": [
       "[1, 2, 3, 4, 5, 6]"
      ]
     },
     "execution_count": 16,
     "metadata": {},
     "output_type": "execute_result"
    }
   ],
   "source": [
    "my_list = [1,2,3,4,5,6]\n",
    "my_list"
   ]
  },
  {
   "cell_type": "code",
   "execution_count": 17,
   "id": "3ccf7f1a-ff1e-44f8-8a2f-f0a31b976203",
   "metadata": {},
   "outputs": [
    {
     "data": {
      "text/plain": [
       "6"
      ]
     },
     "execution_count": 17,
     "metadata": {},
     "output_type": "execute_result"
    }
   ],
   "source": [
    "len(my_list)"
   ]
  },
  {
   "cell_type": "code",
   "execution_count": 18,
   "id": "bce7919e-77de-48af-b3fc-bb1b897bdeae",
   "metadata": {},
   "outputs": [
    {
     "data": {
      "text/plain": [
       "[1, 2, 3, 4, 5, 6]"
      ]
     },
     "execution_count": 18,
     "metadata": {},
     "output_type": "execute_result"
    }
   ],
   "source": [
    "my_list"
   ]
  },
  {
   "cell_type": "code",
   "execution_count": 19,
   "id": "5741ee6d-d649-4cc2-8798-99c59ff80d05",
   "metadata": {},
   "outputs": [
    {
     "data": {
      "text/plain": [
       "3"
      ]
     },
     "execution_count": 19,
     "metadata": {},
     "output_type": "execute_result"
    }
   ],
   "source": [
    "my_list[2]"
   ]
  },
  {
   "cell_type": "code",
   "execution_count": 20,
   "id": "9036f239-583c-4067-a8c7-7d5582db7aa8",
   "metadata": {},
   "outputs": [
    {
     "data": {
      "text/plain": [
       "[2, 3, 4, 5, 6]"
      ]
     },
     "execution_count": 20,
     "metadata": {},
     "output_type": "execute_result"
    }
   ],
   "source": [
    "my_list[1:]"
   ]
  },
  {
   "cell_type": "code",
   "execution_count": 21,
   "id": "5fd3493b-cffc-497a-b689-81e9d2d558cf",
   "metadata": {},
   "outputs": [
    {
     "data": {
      "text/plain": [
       "[5, 6]"
      ]
     },
     "execution_count": 21,
     "metadata": {},
     "output_type": "execute_result"
    }
   ],
   "source": [
    "my_list[4:]"
   ]
  },
  {
   "cell_type": "code",
   "execution_count": 22,
   "id": "969956ac-fedc-444b-90d8-307ff7eb7c6c",
   "metadata": {},
   "outputs": [
    {
     "data": {
      "text/plain": [
       "[1, 2, 3, 4, 5, 6, 'new items']"
      ]
     },
     "execution_count": 22,
     "metadata": {},
     "output_type": "execute_result"
    }
   ],
   "source": [
    "my_list + ['new items']"
   ]
  },
  {
   "cell_type": "code",
   "execution_count": 23,
   "id": "f3e5534b-7280-449d-b032-c9917e99a835",
   "metadata": {},
   "outputs": [
    {
     "data": {
      "text/plain": [
       "[1, 2, 3, 4, 5, 6, 'append']"
      ]
     },
     "execution_count": 23,
     "metadata": {},
     "output_type": "execute_result"
    }
   ],
   "source": [
    "new_list= [1,2,3,4,5,6]\n",
    "new_list.append('append')\n",
    "new_list"
   ]
  },
  {
   "cell_type": "code",
   "execution_count": 24,
   "id": "2365a301-2ab9-4ad1-8889-776eb1892057",
   "metadata": {},
   "outputs": [
    {
     "data": {
      "text/plain": [
       "[1, 2, 3, 4, 5, 6]"
      ]
     },
     "execution_count": 24,
     "metadata": {},
     "output_type": "execute_result"
    }
   ],
   "source": [
    "new_list.pop()\n",
    "new_list"
   ]
  },
  {
   "cell_type": "code",
   "execution_count": 25,
   "id": "4d4b34d5-1536-4efd-8bb3-7af32d8611c5",
   "metadata": {},
   "outputs": [
    {
     "data": {
      "text/plain": [
       "1"
      ]
     },
     "execution_count": 25,
     "metadata": {},
     "output_type": "execute_result"
    }
   ],
   "source": [
    "new_list.pop(0)"
   ]
  },
  {
   "cell_type": "code",
   "execution_count": 26,
   "id": "05a38207-091d-4f27-beb6-e9e9ccfdb016",
   "metadata": {},
   "outputs": [
    {
     "data": {
      "text/plain": [
       "[2, 3, 4, 5, 6]"
      ]
     },
     "execution_count": 26,
     "metadata": {},
     "output_type": "execute_result"
    }
   ],
   "source": [
    "new_list"
   ]
  },
  {
   "cell_type": "code",
   "execution_count": 27,
   "id": "7f9a8a57-7fbd-4ad0-9e35-6dcbd11a168b",
   "metadata": {},
   "outputs": [],
   "source": [
    "new_list.append(1)"
   ]
  },
  {
   "cell_type": "code",
   "execution_count": 28,
   "id": "e3aaeb30-6542-4b18-8846-761d69fb7292",
   "metadata": {},
   "outputs": [
    {
     "data": {
      "text/plain": [
       "[2, 3, 4, 5, 6, 1]"
      ]
     },
     "execution_count": 28,
     "metadata": {},
     "output_type": "execute_result"
    }
   ],
   "source": [
    "new_list"
   ]
  },
  {
   "cell_type": "code",
   "execution_count": 29,
   "id": "314d79a2-a04c-4a0b-8c46-62c9b1ca083c",
   "metadata": {},
   "outputs": [
    {
     "name": "stdout",
     "output_type": "stream",
     "text": [
      "<class 'list'>\n"
     ]
    }
   ],
   "source": [
    "print(type(my_list))"
   ]
  },
  {
   "cell_type": "code",
   "execution_count": 30,
   "id": "a3e8930d-88c8-4eb8-8382-11a18f50d7e2",
   "metadata": {},
   "outputs": [
    {
     "data": {
      "text/plain": [
       "{'key1': 'apple', 'key2': 'banana', 'key3': 'papaya'}"
      ]
     },
     "execution_count": 30,
     "metadata": {},
     "output_type": "execute_result"
    }
   ],
   "source": [
    "dict = {'key1':'apple','key2':'banana','key3':'papaya'}\n",
    "dict"
   ]
  },
  {
   "cell_type": "code",
   "execution_count": 31,
   "id": "9b817b05-632b-4c32-a456-25979c0204b3",
   "metadata": {},
   "outputs": [
    {
     "data": {
      "text/plain": [
       "'banana'"
      ]
     },
     "execution_count": 31,
     "metadata": {},
     "output_type": "execute_result"
    }
   ],
   "source": [
    "dict['key2']"
   ]
  },
  {
   "cell_type": "code",
   "execution_count": 32,
   "id": "51573335-2623-4864-8cab-70e80fb91cba",
   "metadata": {},
   "outputs": [
    {
     "data": {
      "text/plain": [
       "{'key1': 123, 'key2': [1, 2, 3], 'key3': ['Edu', 'Net', 'Foundation']}"
      ]
     },
     "execution_count": 32,
     "metadata": {},
     "output_type": "execute_result"
    }
   ],
   "source": [
    "my_dict = {'key1':123,'key2':[1,2,3],'key3':['Edu','Net','Foundation']}\n",
    "my_dict\n"
   ]
  },
  {
   "cell_type": "code",
   "execution_count": 33,
   "id": "28567210-c668-4d91-8be1-b44e78af2516",
   "metadata": {},
   "outputs": [
    {
     "data": {
      "text/plain": [
       "['Edu', 'Net', 'Foundation']"
      ]
     },
     "execution_count": 33,
     "metadata": {},
     "output_type": "execute_result"
    }
   ],
   "source": [
    "my_dict['key3']"
   ]
  },
  {
   "cell_type": "code",
   "execution_count": 34,
   "id": "1b996054-e9e8-4f7a-b4cf-ae1f68687d83",
   "metadata": {},
   "outputs": [
    {
     "data": {
      "text/plain": [
       "'Edu'"
      ]
     },
     "execution_count": 34,
     "metadata": {},
     "output_type": "execute_result"
    }
   ],
   "source": [
    "my_dict['key3'][0]"
   ]
  },
  {
   "cell_type": "code",
   "execution_count": 35,
   "id": "667cb46d-cc08-4313-ac32-a148e5aaccfe",
   "metadata": {},
   "outputs": [
    {
     "data": {
      "text/plain": [
       "'EDU'"
      ]
     },
     "execution_count": 35,
     "metadata": {},
     "output_type": "execute_result"
    }
   ],
   "source": [
    "my_dict['key3'][0].upper()\n"
   ]
  },
  {
   "cell_type": "code",
   "execution_count": 36,
   "id": "132e76f4-30bd-417d-b646-b961f7ee8204",
   "metadata": {},
   "outputs": [
    {
     "data": {
      "text/plain": [
       "246"
      ]
     },
     "execution_count": 36,
     "metadata": {},
     "output_type": "execute_result"
    }
   ],
   "source": [
    "my_dict['key1'] = my_dict['key1'] + 123\n",
    "my_dict['key1']"
   ]
  },
  {
   "cell_type": "code",
   "execution_count": 37,
   "id": "ac01a63c-c97c-45cc-bdbb-a3d1337d400f",
   "metadata": {},
   "outputs": [
    {
     "data": {
      "text/plain": [
       "{'key1': 246, 'key2': [1, 2, 3], 'key3': ['Edu', 'Net', 'Foundation']}"
      ]
     },
     "execution_count": 37,
     "metadata": {},
     "output_type": "execute_result"
    }
   ],
   "source": [
    "my_dict"
   ]
  },
  {
   "cell_type": "code",
   "execution_count": 38,
   "id": "98b02e0b-60f0-4b3e-b4fc-3d52e2206c2b",
   "metadata": {},
   "outputs": [
    {
     "data": {
      "text/plain": [
       "(1, 2, 3, 3, 3, 'aditya', 'edu')"
      ]
     },
     "execution_count": 38,
     "metadata": {},
     "output_type": "execute_result"
    }
   ],
   "source": [
    "tuple = (1,2,3,3,3,'aditya','edu')\n",
    "tuple"
   ]
  },
  {
   "cell_type": "code",
   "execution_count": 39,
   "id": "67d90f58-c329-4fe5-862e-e3a82aaed7a0",
   "metadata": {},
   "outputs": [
    {
     "data": {
      "text/plain": [
       "7"
      ]
     },
     "execution_count": 39,
     "metadata": {},
     "output_type": "execute_result"
    }
   ],
   "source": [
    "len(tuple)"
   ]
  },
  {
   "cell_type": "code",
   "execution_count": 40,
   "id": "256389b4-053f-4f47-8407-91ed3f7d3fb4",
   "metadata": {},
   "outputs": [
    {
     "data": {
      "text/plain": [
       "1"
      ]
     },
     "execution_count": 40,
     "metadata": {},
     "output_type": "execute_result"
    }
   ],
   "source": [
    "tuple[0]"
   ]
  },
  {
   "cell_type": "code",
   "execution_count": 41,
   "id": "5930c5aa-9e78-41d7-a9ab-5352111a91a3",
   "metadata": {},
   "outputs": [
    {
     "data": {
      "text/plain": [
       "'edu'"
      ]
     },
     "execution_count": 41,
     "metadata": {},
     "output_type": "execute_result"
    }
   ],
   "source": [
    "tuple[-1]"
   ]
  },
  {
   "cell_type": "code",
   "execution_count": 42,
   "id": "7729be69-39f4-42e6-828a-9a42aadffda1",
   "metadata": {},
   "outputs": [
    {
     "data": {
      "text/plain": [
       "{1, 2, 3, 4}"
      ]
     },
     "execution_count": 42,
     "metadata": {},
     "output_type": "execute_result"
    }
   ],
   "source": [
    "{1,2,3,4}"
   ]
  },
  {
   "cell_type": "code",
   "execution_count": 43,
   "id": "8a4edc3e-ec88-4c0f-bd88-fd892d271a4d",
   "metadata": {},
   "outputs": [
    {
     "data": {
      "text/plain": [
       "set"
      ]
     },
     "execution_count": 43,
     "metadata": {},
     "output_type": "execute_result"
    }
   ],
   "source": [
    "type({1,2,3,4})"
   ]
  },
  {
   "cell_type": "code",
   "execution_count": 44,
   "id": "281c851b-1168-402d-8d38-79ec49100d54",
   "metadata": {},
   "outputs": [],
   "source": [
    "Set = set()"
   ]
  },
  {
   "cell_type": "code",
   "execution_count": 45,
   "id": "491e38eb-e57f-416e-b814-6e0d67a141a3",
   "metadata": {},
   "outputs": [
    {
     "data": {
      "text/plain": [
       "{1, 2, 3, 4}"
      ]
     },
     "execution_count": 45,
     "metadata": {},
     "output_type": "execute_result"
    }
   ],
   "source": [
    "Set.add(1)\n",
    "Set.add(2)\n",
    "Set.add(3)\n",
    "Set.add(4)\n",
    "Set"
   ]
  },
  {
   "cell_type": "code",
   "execution_count": 46,
   "id": "2a03ace6-2acc-43d0-a248-f0149d84e310",
   "metadata": {},
   "outputs": [
    {
     "name": "stdout",
     "output_type": "stream",
     "text": [
      "pope is eternal truth\n"
     ]
    }
   ],
   "source": [
    "if True:\n",
    "    print(\"pope is eternal truth\")"
   ]
  },
  {
   "cell_type": "code",
   "execution_count": 47,
   "id": "f4ed7b39-ebfa-4af9-89cd-1051612b8d3c",
   "metadata": {},
   "outputs": [
    {
     "name": "stdout",
     "output_type": "stream",
     "text": [
      "nah it was jhully\n"
     ]
    }
   ],
   "source": [
    "x = False\n",
    "if x : \n",
    "    print (\"pope is eternal truth\")\n",
    "else :\n",
    "    print(\"nah it was {}\".format('jhully'))"
   ]
  },
  {
   "cell_type": "code",
   "execution_count": 48,
   "id": "09e38e36-8cc7-4299-9a17-39e70111a88a",
   "metadata": {},
   "outputs": [
    {
     "name": "stdout",
     "output_type": "stream",
     "text": [
      "suiiiiiiiiiiiiiiii\n"
     ]
    }
   ],
   "source": [
    "loc = 'bp'\n",
    "if loc == 'bangalore':\n",
    "    print('wkcome it is rigth destination')\n",
    "elif loc == 'ap':\n",
    "    print('welcome to andra pardeah')\n",
    "else: \n",
    "    print('suiiiiiiiiiiiiiiii')"
   ]
  },
  {
   "cell_type": "code",
   "execution_count": 49,
   "id": "f05c445d-443f-460a-a476-e7a3417a728f",
   "metadata": {},
   "outputs": [
    {
     "name": "stdout",
     "output_type": "stream",
     "text": [
      "1\n",
      "2\n",
      "3\n",
      "4\n",
      "5\n",
      "6\n",
      "7\n",
      "8\n",
      "9\n",
      "10\n"
     ]
    }
   ],
   "source": [
    "list1 = [1,2,3,4,5,6,7,8,9,10]\n",
    "for x in list1:\n",
    "    print(x)"
   ]
  },
  {
   "cell_type": "code",
   "execution_count": 50,
   "id": "74b82b0e-8b46-424e-8dff-7752b5fbe4c3",
   "metadata": {},
   "outputs": [
    {
     "name": "stdout",
     "output_type": "stream",
     "text": [
      "2\n",
      "4\n",
      "6\n",
      "8\n",
      "10\n"
     ]
    }
   ],
   "source": [
    "for x in list1:\n",
    "    if x % 2 == 0:\n",
    "        print(x)"
   ]
  },
  {
   "cell_type": "code",
   "execution_count": 51,
   "id": "62e10955-f31b-4b03-800a-80fb195a1d75",
   "metadata": {},
   "outputs": [
    {
     "name": "stdout",
     "output_type": "stream",
     "text": [
      "odd number:1\n",
      "even number:2\n",
      "odd number:3\n",
      "even number:4\n",
      "odd number:5\n",
      "even number:6\n",
      "odd number:7\n",
      "even number:8\n",
      "odd number:9\n",
      "even number:10\n"
     ]
    }
   ],
   "source": [
    "for num in list1:\n",
    "    if num % 2 ==0:\n",
    "        print(\"even number:{}\".format(num))\n",
    "    else:\n",
    "        print(\"odd number:{}\".format(num))"
   ]
  },
  {
   "cell_type": "code",
   "execution_count": 52,
   "id": "ce98e209-4326-47ee-9a1f-7b32de3e7067",
   "metadata": {},
   "outputs": [
    {
     "name": "stdout",
     "output_type": "stream",
     "text": [
      "sum of all the number is: 55\n"
     ]
    }
   ],
   "source": [
    "list_sum = 0\n",
    "for num in list1:\n",
    "    list_sum = list_sum + num\n",
    "print(\"sum of all the number is: {}\".format(list_sum))\n"
   ]
  },
  {
   "cell_type": "code",
   "execution_count": 53,
   "id": "abc4fe01-c9e1-4b36-871d-ee849c452613",
   "metadata": {},
   "outputs": [
    {
     "name": "stdout",
     "output_type": "stream",
     "text": [
      "x is currently:  0\n",
      "x is still less than 10,adding 1 to x\n",
      "x is currently:  1\n",
      "x is still less than 10,adding 1 to x\n",
      "x is currently:  2\n",
      "x is still less than 10,adding 1 to x\n",
      "x is currently:  3\n",
      "x is still less than 10,adding 1 to x\n",
      "x is currently:  4\n",
      "x is still less than 10,adding 1 to x\n",
      "x is currently:  5\n",
      "x is still less than 10,adding 1 to x\n",
      "x is currently:  6\n",
      "x is still less than 10,adding 1 to x\n",
      "x is currently:  7\n",
      "x is still less than 10,adding 1 to x\n",
      "x is currently:  8\n",
      "x is still less than 10,adding 1 to x\n",
      "x is currently:  9\n",
      "x is still less than 10,adding 1 to x\n",
      "\n",
      " all done!\n"
     ]
    }
   ],
   "source": [
    "x = 0\n",
    "while x < 10:\n",
    "    print('x is currently: ',x)\n",
    "    print('x is still less than 10,adding 1 to x')\n",
    "    x+=1\n",
    "else:\n",
    "    print('\\n all done!')"
   ]
  },
  {
   "cell_type": "code",
   "execution_count": 54,
   "id": "78c7b45e-6343-4577-ad29-8af2ef5053e9",
   "metadata": {},
   "outputs": [
    {
     "data": {
      "text/plain": [
       "['e', 'd', 'u', 'n', 'e', 't']"
      ]
     },
     "execution_count": 54,
     "metadata": {},
     "output_type": "execute_result"
    }
   ],
   "source": [
    "lst = [x for x in 'edunet']\n",
    "lst"
   ]
  },
  {
   "cell_type": "code",
   "execution_count": 55,
   "id": "32114839-39b5-4b33-90f2-0b938e0eb4c2",
   "metadata": {},
   "outputs": [
    {
     "name": "stdout",
     "output_type": "stream",
     "text": [
      "0\n",
      "1\n",
      "2\n",
      "3\n",
      "4\n",
      "5\n",
      "6\n",
      "7\n",
      "8\n",
      "9\n"
     ]
    }
   ],
   "source": [
    "for x in range(10):\n",
    "    print(x)\n",
    "    "
   ]
  },
  {
   "cell_type": "code",
   "execution_count": 56,
   "id": "8256fecb-559d-4521-8a65-5f85a577baf0",
   "metadata": {},
   "outputs": [
    {
     "data": {
      "text/plain": [
       "[21, 24, 29, 36, 45, 56, 69, 84, 101, 120]"
      ]
     },
     "execution_count": 56,
     "metadata": {},
     "output_type": "execute_result"
    }
   ],
   "source": [
    "sqr = [((x**2)+20) for x in range (1,11)]\n",
    "sqr"
   ]
  },
  {
   "cell_type": "code",
   "execution_count": 57,
   "id": "7a7fb997-d902-483f-858c-2c7937fa2a85",
   "metadata": {},
   "outputs": [],
   "source": [
    "def say_hello():\n",
    "    print('hellovedunet')"
   ]
  },
  {
   "cell_type": "code",
   "execution_count": 58,
   "id": "2bb1b3da-4758-43a6-b921-893644b1aa14",
   "metadata": {},
   "outputs": [
    {
     "name": "stdout",
     "output_type": "stream",
     "text": [
      "hellovedunet\n"
     ]
    }
   ],
   "source": [
    "say_hello()"
   ]
  },
  {
   "cell_type": "code",
   "execution_count": 59,
   "id": "ac334dae-99fd-42c4-b8d4-55a0ea9f7ea7",
   "metadata": {},
   "outputs": [],
   "source": [
    "def add_num(num1,num2):\n",
    "    return num1 + num2"
   ]
  },
  {
   "cell_type": "code",
   "execution_count": 60,
   "id": "d3ca5d0b-14cb-4882-9247-4c7123cd9871",
   "metadata": {},
   "outputs": [
    {
     "data": {
      "text/plain": [
       "11"
      ]
     },
     "execution_count": 60,
     "metadata": {},
     "output_type": "execute_result"
    }
   ],
   "source": [
    "add_num(2,9)"
   ]
  },
  {
   "cell_type": "code",
   "execution_count": 61,
   "id": "3e1e63af-c96c-4593-adea-77762978b1e7",
   "metadata": {},
   "outputs": [],
   "source": [
    "def check_even_list(num_list):\n",
    "    \n",
    "    even_numbers = []\n",
    "    \n",
    "    \n",
    "    for number in num_list:\n",
    "       \n",
    "        if number % 2 == 0:\n",
    "            even_numbers.append(number)\n",
    "        \n",
    "        else:\n",
    "            pass  \n",
    "    return even_numbers"
   ]
  },
  {
   "cell_type": "code",
   "execution_count": 62,
   "id": "ef39b3cf-82a6-4e23-bded-ebcb5997f7f7",
   "metadata": {},
   "outputs": [
    {
     "data": {
      "text/plain": [
       "[2, 4, 6]"
      ]
     },
     "execution_count": 62,
     "metadata": {},
     "output_type": "execute_result"
    }
   ],
   "source": [
    "check_even_list([1,2,3,4,5,6])"
   ]
  },
  {
   "cell_type": "code",
   "execution_count": 63,
   "id": "0efb541c-09c8-4b3e-bb47-e196997ab158",
   "metadata": {},
   "outputs": [
    {
     "name": "stdout",
     "output_type": "stream",
     "text": [
      "30 is greater\n"
     ]
    }
   ],
   "source": [
    "n1=10\n",
    "n2=20\n",
    "n3=30\n",
    "if n3>n1 and n3>n2 :\n",
    "    print(\"{} is greater\".format(n3))\n",
    "elif n1>n2 and n1>n3:\n",
    "    print(\"{} is greater\".format(n1))\n",
    "else:\n",
    "    print(\"{} is greater\".format(n2))"
   ]
  },
  {
   "cell_type": "code",
   "execution_count": 64,
   "id": "b35db950-9dc1-4a93-9a30-45ee0a9141c4",
   "metadata": {},
   "outputs": [
    {
     "name": "stdout",
     "output_type": "stream",
     "text": [
      "bill is : 43600\n"
     ]
    }
   ],
   "source": [
    "unit = 3550\n",
    "\n",
    "if unit > 1000:\n",
    "    left = unit - 1000\n",
    "    bill = (left * 14) + (500 * 11) + (300 * 8) \n",
    "    print(\"bill is : {}\".format(bill))\n",
    "elif unit < 1000 and unit > 500:\n",
    "    left = unit - 500\n",
    "    bill = (left * 11) + (300 * 8) \n",
    "    print(\"bill is : {}\".format(bill))\n",
    "elif unit < 500 and unit > 200:\n",
    "    left = unit - 200\n",
    "    bill = (left * 8) \n",
    "    print(\"bill is : {}\".format(bill))\n",
    "else:\n",
    "    bill = 0\n",
    "    print(\"bill is : {}\".format(bill))\n",
    "    "
   ]
  },
  {
   "cell_type": "code",
   "execution_count": 65,
   "id": "b869d197-6ec0-4e62-bcfd-9f6480cd8c27",
   "metadata": {},
   "outputs": [
    {
     "name": "stdout",
     "output_type": "stream",
     "text": [
      "4350000\n",
      "taxes to be paid: 895000.0\n"
     ]
    }
   ],
   "source": [
    "total = 4500000\n",
    "saving = 150000\n",
    "if saving >= 200000:\n",
    "    saved = 200000;\n",
    "    total = total - saved\n",
    "    if total >= 2200000:\n",
    "        taxes = (total -2200000)*(30/100) + (1200000 * 20/100) +(100000 * 10/100)\n",
    "        print(\"taxes to be paid: {}\".format(taxes))\n",
    "    elif total < 2200000 and total > 1000000:\n",
    "        taxes = ((total - 1000000)*20/100) + (1000000 * 10/100)\n",
    "        print(\"taxes to be paid: {}\".format(taxes))\n",
    "    else:\n",
    "        taxes = total * (10/100)\n",
    "        print(\"taxes to be paid: {}\".format(taxes))\n",
    "else:\n",
    "    total = total - saving\n",
    "    print(total)\n",
    "    if total >= 2200000:\n",
    "        taxes = (total -2200000)*(0.3) + (1200000 * 0.2) +(100000 * 0.1)\n",
    "        print(\"taxes to be paid: {}\".format(taxes))\n",
    "    elif total < 2200000 and total > 1000000:\n",
    "        taxes = ((total - 1200000)* 0.2) + (1000000 * 0.1)\n",
    "        print(\"taxes to be paid: {}\".format(taxes))\n",
    "    else:\n",
    "        taxes = total * (0.1)\n",
    "        print(\"taxes to be paid: {}\".format(taxes))\n",
    "    \n",
    "    "
   ]
  },
  {
   "cell_type": "code",
   "execution_count": 66,
   "id": "8914a53e-5237-49bf-8bdb-a9e594dfffd8",
   "metadata": {},
   "outputs": [
    {
     "name": "stdout",
     "output_type": "stream",
     "text": [
      "interest is : 1045000.0\n"
     ]
    }
   ],
   "source": [
    "fd = 6500000\n",
    "interest = 0\n",
    "if fd > 0 and fd <= 1000000:\n",
    "    interest = fd * 0.1\n",
    "    print(\"interest is : {}\".format(interest))\n",
    "elif fd > 1000000 and fd <= 2500000:\n",
    "    amount = fd - 1000000\n",
    "    interest = ((amount) * 0.15) + 1000000\n",
    "    print(\"interest is : {}\".format(interest))\n",
    "else:\n",
    "    amount = fd - 2500000\n",
    "    interest = ((amount)*0.18) + 100000 + 225000\n",
    "    print(\"interest is : {}\".format(interest))\n",
    "    "
   ]
  },
  {
   "cell_type": "code",
   "execution_count": 67,
   "id": "04cb7033-30d7-4da5-8fb9-66e24b1ea277",
   "metadata": {},
   "outputs": [
    {
     "ename": "KeyboardInterrupt",
     "evalue": "Interrupted by user",
     "output_type": "error",
     "traceback": [
      "\u001b[1;31m---------------------------------------------------------------------------\u001b[0m",
      "\u001b[1;31mKeyboardInterrupt\u001b[0m                         Traceback (most recent call last)",
      "Cell \u001b[1;32mIn[67], line 1\u001b[0m\n\u001b[1;32m----> 1\u001b[0m num \u001b[38;5;241m=\u001b[39m \u001b[38;5;28mint\u001b[39m(\u001b[38;5;28minput\u001b[39m(\u001b[38;5;124m\"\u001b[39m\u001b[38;5;124menter the number:\u001b[39m\u001b[38;5;124m\"\u001b[39m))\n\u001b[0;32m      2\u001b[0m a \u001b[38;5;241m=\u001b[39m \u001b[38;5;241m0\u001b[39m\n\u001b[0;32m      3\u001b[0m b \u001b[38;5;241m=\u001b[39m \u001b[38;5;241m1\u001b[39m\n",
      "File \u001b[1;32m~\\anaconda3\\Lib\\site-packages\\ipykernel\\kernelbase.py:1282\u001b[0m, in \u001b[0;36mKernel.raw_input\u001b[1;34m(self, prompt)\u001b[0m\n\u001b[0;32m   1280\u001b[0m     msg \u001b[38;5;241m=\u001b[39m \u001b[38;5;124m\"\u001b[39m\u001b[38;5;124mraw_input was called, but this frontend does not support input requests.\u001b[39m\u001b[38;5;124m\"\u001b[39m\n\u001b[0;32m   1281\u001b[0m     \u001b[38;5;28;01mraise\u001b[39;00m StdinNotImplementedError(msg)\n\u001b[1;32m-> 1282\u001b[0m \u001b[38;5;28;01mreturn\u001b[39;00m \u001b[38;5;28mself\u001b[39m\u001b[38;5;241m.\u001b[39m_input_request(\n\u001b[0;32m   1283\u001b[0m     \u001b[38;5;28mstr\u001b[39m(prompt),\n\u001b[0;32m   1284\u001b[0m     \u001b[38;5;28mself\u001b[39m\u001b[38;5;241m.\u001b[39m_parent_ident[\u001b[38;5;124m\"\u001b[39m\u001b[38;5;124mshell\u001b[39m\u001b[38;5;124m\"\u001b[39m],\n\u001b[0;32m   1285\u001b[0m     \u001b[38;5;28mself\u001b[39m\u001b[38;5;241m.\u001b[39mget_parent(\u001b[38;5;124m\"\u001b[39m\u001b[38;5;124mshell\u001b[39m\u001b[38;5;124m\"\u001b[39m),\n\u001b[0;32m   1286\u001b[0m     password\u001b[38;5;241m=\u001b[39m\u001b[38;5;28;01mFalse\u001b[39;00m,\n\u001b[0;32m   1287\u001b[0m )\n",
      "File \u001b[1;32m~\\anaconda3\\Lib\\site-packages\\ipykernel\\kernelbase.py:1325\u001b[0m, in \u001b[0;36mKernel._input_request\u001b[1;34m(self, prompt, ident, parent, password)\u001b[0m\n\u001b[0;32m   1322\u001b[0m \u001b[38;5;28;01mexcept\u001b[39;00m \u001b[38;5;167;01mKeyboardInterrupt\u001b[39;00m:\n\u001b[0;32m   1323\u001b[0m     \u001b[38;5;66;03m# re-raise KeyboardInterrupt, to truncate traceback\u001b[39;00m\n\u001b[0;32m   1324\u001b[0m     msg \u001b[38;5;241m=\u001b[39m \u001b[38;5;124m\"\u001b[39m\u001b[38;5;124mInterrupted by user\u001b[39m\u001b[38;5;124m\"\u001b[39m\n\u001b[1;32m-> 1325\u001b[0m     \u001b[38;5;28;01mraise\u001b[39;00m \u001b[38;5;167;01mKeyboardInterrupt\u001b[39;00m(msg) \u001b[38;5;28;01mfrom\u001b[39;00m \u001b[38;5;28;01mNone\u001b[39;00m\n\u001b[0;32m   1326\u001b[0m \u001b[38;5;28;01mexcept\u001b[39;00m \u001b[38;5;167;01mException\u001b[39;00m:\n\u001b[0;32m   1327\u001b[0m     \u001b[38;5;28mself\u001b[39m\u001b[38;5;241m.\u001b[39mlog\u001b[38;5;241m.\u001b[39mwarning(\u001b[38;5;124m\"\u001b[39m\u001b[38;5;124mInvalid Message:\u001b[39m\u001b[38;5;124m\"\u001b[39m, exc_info\u001b[38;5;241m=\u001b[39m\u001b[38;5;28;01mTrue\u001b[39;00m)\n",
      "\u001b[1;31mKeyboardInterrupt\u001b[0m: Interrupted by user"
     ]
    }
   ],
   "source": [
    "num = int(input(\"enter the number:\"))\n",
    "a = 0\n",
    "b = 1\n",
    "print(a,b,end=\" \")\n",
    "for x in range(3,num+1):\n",
    "    sum = a+b\n",
    "    print(sum, end=\" \")\n",
    "    a=b\n",
    "    b=sum\n",
    "    "
   ]
  },
  {
   "cell_type": "code",
   "execution_count": null,
   "id": "1f47a53d-8b16-47e3-92db-857d14acee2d",
   "metadata": {},
   "outputs": [],
   "source": [
    "num = input(\"enter the number:\")\n",
    "num_len = len(num)\n",
    "n = int(num)\n",
    "sum = 0\n",
    "\n",
    "for x in range(num_len):\n",
    "    sum = sum + (int(num[x])**(len(num)))\n",
    "if sum == n:\n",
    "    print(\"hai bhai armstrong hai!\")\n",
    "else:\n",
    "    print(\"nahi hai!\")"
   ]
  },
  {
   "cell_type": "code",
   "execution_count": null,
   "id": "9bb78343-760d-485d-9fb6-86f1b39cc20f",
   "metadata": {},
   "outputs": [],
   "source": [
    "n1 = 5\n",
    "for i in range(1, n1 + 1):\n",
    "    print(\"*\" * i)\n"
   ]
  },
  {
   "cell_type": "code",
   "execution_count": null,
   "id": "94f8a1fb-3ecc-4e4f-b020-fb22b4fb2330",
   "metadata": {},
   "outputs": [],
   "source": [
    "n = int(input(\"enter a number:\"))\n",
    "if n < 2:\n",
    "    print(\"it is not a prime number\")\n",
    "else:\n",
    "    for x in range(2,n//2):\n",
    "        if n % x == 0:\n",
    "            print(\"prime nahi hai dost!\")\n",
    "            break\n",
    "        else:\n",
    "            print(\"prime hai to sahi!!!\")\n",
    "        \n",
    "    "
   ]
  },
  {
   "cell_type": "code",
   "execution_count": null,
   "id": "e7ad5444-96ae-4607-9da7-0c3d2af9c278",
   "metadata": {},
   "outputs": [],
   "source": [
    "n = 5\n",
    "for i in range(1, n + 1):\n",
    "    print(\" \"* (n-i) + \"*\" * i)"
   ]
  },
  {
   "cell_type": "code",
   "execution_count": null,
   "id": "e961ecc5-26ea-45b3-9c25-ce5802f75ea9",
   "metadata": {},
   "outputs": [],
   "source": [
    "def prime(n):\n",
    "    \n",
    "    prime = []\n",
    "    num = 2\n",
    "    while len(prime) < n:\n",
    "        for p in prime:\n",
    "            if num % p == 0:\n",
    "                break\n",
    "        else:\n",
    "            prime.append(num)\n",
    "        num = num + 1\n",
    "    return prime\n",
    "n = int(input(\"enter a number\"))\n",
    "\n",
    "print(prime(n))\n",
    "    \n",
    "    "
   ]
  },
  {
   "cell_type": "code",
   "execution_count": null,
   "id": "79c8c4f4-1db7-43c4-a2f7-b4c168f12965",
   "metadata": {},
   "outputs": [],
   "source": [
    "name = \"walchand institute of technology, solapur, maharashtra\"\n",
    "name_drop=name.replace(\",\",\"\")\n",
    "name_split=name_drop.split()\n",
    "print(len(name_split))\n",
    "print(len(name_drop))\n",
    "print(name_split[::-1])\n",
    "print(\"1) reverse order: \",end=\"\")\n",
    "for i in range(len(name_drop)-1,-1,-1):\n",
    "    print(name_drop[i],end=\"\")\n",
    "print(\"\")\n",
    "print(\"2) even no: \",end=\"\")\n",
    "for i in range(0,len(name_drop),2):\n",
    "    print(name_drop[i],end=\"\")\n",
    "print(\"\")\n",
    "print(\"3) odd no: \",end=\"\")\n",
    "for i in range(1,len(name_drop),2):\n",
    "    print(name_drop[i],end=\"\")\n",
    "print(\"\")\n",
    "\n",
    "my_list=[]\n",
    "vowels=[\"a\",\"e\",\"i\",\"o\",\"u\"]\n",
    "counter = 0\n",
    "print(\"4) no of vowels :\",end=\"\")\n",
    "for i in range(0,len(name_drop)):\n",
    "    for j in range(0,len(vowels)):\n",
    "        if name_drop[i] == vowels[j]:\n",
    "            my_list.append(name_drop[i])\n",
    "            counter = counter + 1\n",
    "print(counter)\n"
   ]
  },
  {
   "cell_type": "code",
   "execution_count": null,
   "id": "35509eca-6b38-4867-92e3-3556d8e35819",
   "metadata": {},
   "outputs": [],
   "source": [
    "def length(a):\n",
    "    counter = 0\n",
    "    for x in a:\n",
    "        counter = counter + 1\n",
    "    return counter\n",
    "length('aditya')"
   ]
  },
  {
   "cell_type": "code",
   "execution_count": null,
   "id": "351015db-9182-43c7-a03c-6e7237719475",
   "metadata": {},
   "outputs": [],
   "source": [
    "num = int(input(\"Enter the number: \"))  \n",
    "a, b = 0, 1  \n",
    "print(a, b, end=\" \")  \n",
    "count = 3   \n",
    "while count <= num:  \n",
    "    sum_ = a + b   \n",
    "    print(sum_, end=\" \")  \n",
    "    a, b = b, sum_  \n",
    "    count += 1  \n"
   ]
  },
  {
   "cell_type": "code",
   "execution_count": null,
   "id": "7d0183b7-5d9a-460c-be3f-bfdbfa78f25c",
   "metadata": {},
   "outputs": [],
   "source": [
    "num = input(\"enter the number: \")\n",
    "count = 0\n",
    "sum = 0\n",
    "while count <= (len(num)-1):\n",
    "    sum = sum + (int(num[count-1])**len(num))\n",
    "    count += 1\n",
    "if sum == int(num):\n",
    "    print(\"hai to sahi!\")\n",
    "else:\n",
    "    print(\"nhai hai jaane de soo ja!\")"
   ]
  },
  {
   "cell_type": "code",
   "execution_count": null,
   "id": "592c8fcb-146b-4a08-ac31-b40d82e181ca",
   "metadata": {},
   "outputs": [],
   "source": [
    "name = \"walchand institute of technology solapur maharashtra\"\n",
    "name_drop = name.replace(\",\", \"\")\n",
    "name_split = name_drop.split()\n",
    "i = len(name_split) - 1\n",
    "print(len(name_split))\n",
    "print(len(name_drop))\n",
    "while i >= 0:\n",
    "    print(name_split[i], end=\" \")\n",
    "    i -= 1\n",
    "print(\"\")\n",
    "i = len(name_drop) - 1\n",
    "print(\"1) reverse order: \", end=\"\")\n",
    "while i >= 0:\n",
    "    print(name_drop[i], end=\"\")\n",
    "    i -= 1\n",
    "print(\"\")\n",
    "i = 0\n",
    "print(\"2) even no: \", end=\"\")\n",
    "while i < len(name_drop):\n",
    "    print(name_drop[i], end=\"\")\n",
    "    i += 2\n",
    "print(\"\")\n",
    "i = 1\n",
    "print(\"3) odd no: \", end=\"\")\n",
    "while i < len(name_drop):\n",
    "    print(name_drop[i], end=\"\")\n",
    "    i += 2\n",
    "print(\"\")\n",
    "my_list = []\n",
    "vowels = [\"a\", \"e\", \"i\", \"o\", \"u\"]\n",
    "counter = 0\n",
    "i = 0\n",
    "print(\"4) no of vowels :\", end=\"\")\n",
    "while i < len(name_drop):\n",
    "    j = 0\n",
    "    while j < len(vowels):\n",
    "        if name_drop[i] == vowels[j]:\n",
    "            my_list.append(name_drop[i])\n",
    "            counter += 1\n",
    "        j += 1\n",
    "    i += 1\n",
    "print(counter)"
   ]
  },
  {
   "cell_type": "code",
   "execution_count": null,
   "id": "c8226288-7048-4abf-87d4-145a937e6a70",
   "metadata": {},
   "outputs": [],
   "source": [
    "def fibonacci(num):\n",
    "    a, b = 0, 1\n",
    "    print(a, b, end=\" \")\n",
    "    for i in range(3, num + 1):\n",
    "        total = a + b\n",
    "        print(total, end=\" \")\n",
    "        a, b = b, total  \n",
    "fibonacci(15)"
   ]
  },
  {
   "cell_type": "code",
   "execution_count": null,
   "id": "5804869a-9c31-4a9c-8db6-94a2c63aedc8",
   "metadata": {},
   "outputs": [],
   "source": [
    "def armstrong(num):\n",
    "    num_len = len(num)\n",
    "    n = int(num)\n",
    "    sum = 0\n",
    "\n",
    "    for x in range(num_len):\n",
    "        sum = sum + (int(num[x])**(len(num)))\n",
    "    if sum == n:\n",
    "        return \"hai bhai armstrong hai! tu chill kar!\"\n",
    "    else:\n",
    "        return \"nahi hai sojaa kuch nhi hai zindagi me tere !\"\n",
    "num = input(\"number daal de bhai bohat hogaya abhi:\")\n",
    "armstrong(num)"
   ]
  },
  {
   "cell_type": "code",
   "execution_count": null,
   "id": "f0a2cf6a-1d97-4565-8369-cb819bae62f7",
   "metadata": {},
   "outputs": [],
   "source": [
    "def reverse(name):\n",
    "    name_drop = name.replace(\",\", \"\")\n",
    "    my_list = [name_drop[i] for i in range(len(name_drop) - 1, -1, -1)]\n",
    "    return \"\".join(my_list)\n",
    "\n",
    "name = \"walchand institute of technology, solapur, maharashtra\"\n",
    "reverse(name)\n"
   ]
  },
  {
   "cell_type": "code",
   "execution_count": null,
   "id": "db6f52e4-c8dd-475a-976f-6ff96ba100f4",
   "metadata": {},
   "outputs": [],
   "source": [
    "class car:\n",
    "    #self is pointer\n",
    "    def __init__(self,modelname,year):\n",
    "        self.modelname = modelname\n",
    "        self.year = year\n",
    "    def display(self):\n",
    "        print(self.modelname,self.year)\n",
    "c1 = car(\"toyota\",2016)\n",
    "c1.display()\n",
    "    "
   ]
  },
  {
   "cell_type": "code",
   "execution_count": null,
   "id": "bf84fa05-e504-41ac-b8dc-d8f5e42bccf3",
   "metadata": {},
   "outputs": [],
   "source": [
    "class person:\n",
    "    def __init__(self,name,age):\n",
    "        self.name = name\n",
    "        self.age = age\n",
    "    def display(self):\n",
    "        print(\"my name is {} and {}\".format(self.name,self.age))\n",
    "class zebra:\n",
    "    pass\n",
    "p1 = person(\"jonh\",65)\n",
    "p1.display()"
   ]
  },
  {
   "cell_type": "code",
   "execution_count": null,
   "id": "5d53fc94-2215-4e98-ad2b-f715ae5ec5e8",
   "metadata": {},
   "outputs": [],
   "source": [
    "class pokemon:\n",
    "    def __init__(self,types,name,attack):\n",
    "        self.types = types\n",
    "        self.name = name\n",
    "        self.attack = attack\n",
    "    def display(self):\n",
    "        print(\"types: {} , name: {}, attack: {}\".format(self.types,self.name,self.attack))\n",
    "v1 = pokemon(\"Ground\",\"Sandshrew\",\"Mudbomb\")\n",
    "v1.display()"
   ]
  },
  {
   "cell_type": "code",
   "execution_count": null,
   "id": "aef41aa7-ac39-4f10-b537-e6e6d9d8a4d3",
   "metadata": {},
   "outputs": [],
   "source": [
    "class Library:\n",
    "    def __init__(self):\n",
    "        self.books = []\n",
    "    \n",
    "    def add_book(self, title):\n",
    "        self.books.append(title)\n",
    "        print(\"Book added successfully!!\")\n",
    "    \n",
    "    def remove_book(self, title):\n",
    "        if title in self.books:\n",
    "            self.books.remove(title)\n",
    "            print(\"Book deleted successfully!!\")\n",
    "        else:\n",
    "            print(\"Book not found!!\")\n",
    "    \n",
    "    def display(self):\n",
    "        if self.books:\n",
    "            print(\"Book Collection:\")\n",
    "            for book in self.books:\n",
    "                print(book)\n",
    "        else:\n",
    "            print(\"No books in the collection.\")\n",
    "l1 = Library()\n",
    "l1.add_book(\"The Great Gatsby\")\n",
    "l1.add_book(\"1984\")\n",
    "l1.add_book(\"To Kill a Mockingbird\")\n",
    "l1.display()\n",
    "l1.remove_book(\"1984\")\n",
    "l1.display()"
   ]
  },
  {
   "cell_type": "code",
   "execution_count": null,
   "id": "8cd3bf92-25e4-43d6-8c0f-7abeea0df765",
   "metadata": {},
   "outputs": [],
   "source": [
    "class student:\n",
    "    school_name = \"Don Bosco School\"\n",
    "\n",
    "    def __init__(self, name, age):\n",
    "        self.name = name\n",
    "        self.age = age\n",
    "\n",
    "    def display(self):\n",
    "        print(\"Name: {}, Age: {}, School: {}\".format(self.name, self.age, student.school_name))\n",
    "\n",
    "    @classmethod\n",
    "    def change_school_name(cls, newname):\n",
    "        cls.school_name = newname\n",
    "\n",
    "    @staticmethod\n",
    "    def is_adult(age):\n",
    "        return age >= 18\n",
    "\n",
    "\n",
    "s1 = student(\"Vivaan\", 20)\n",
    "s1.display()\n",
    "\n",
    "student.change_school_name(\"Bon Dosco School\")\n",
    "s1.display()  # This will now reflect the new school name\n",
    "\n",
    "print(student.is_adult(17))  # False\n",
    "print(student.is_adult(19))  # True\n"
   ]
  },
  {
   "cell_type": "code",
   "execution_count": null,
   "id": "41e1379d-4d1d-4e0c-a708-092d8a01f6cd",
   "metadata": {},
   "outputs": [],
   "source": [
    "class sample:\n",
    "    pass\n",
    "x = sample()\n",
    "print(type(x))"
   ]
  },
  {
   "cell_type": "code",
   "execution_count": null,
   "id": "39ed1107-9f65-4499-ab53-e7dc8ae65a7e",
   "metadata": {},
   "outputs": [],
   "source": [
    "class dog:\n",
    "    def __init__(self,breed):\n",
    "        self.breed = breed\n",
    "    def display(self):\n",
    "        print(\"breed of dog {}\".format(self.breed))\n",
    "sam = dog(breed='golden')\n",
    "frank = dog(breed='huskie')\n",
    "sam.display()\n",
    "frank.display()"
   ]
  },
  {
   "cell_type": "code",
   "execution_count": null,
   "id": "933d3944-bc8d-4942-88be-53bca426e6b7",
   "metadata": {},
   "outputs": [],
   "source": [
    "class Dog:\n",
    "\tattr1 = \"mammal\"\n",
    "\tdef __init__(self, name):\n",
    "\t\tself.name = name\n",
    "Rodger = Dog(\"Rodger\")\n",
    "Tommy = Dog(\"Tommy\")\n",
    "print(\"Rodger is a {}\".format(Rodger.__class__.attr1))\n",
    "print(\"Tommy is also a {}\".format(Tommy.__class__.attr1))\n",
    "print(\"My name is {}\".format(Rodger.name))\n",
    "print(\"My name is {}\".format(Tommy.name))\n",
    "\n"
   ]
  },
  {
   "cell_type": "code",
   "execution_count": null,
   "id": "478ec86b-f813-4695-869b-6fac8c040d21",
   "metadata": {},
   "outputs": [],
   "source": [
    "#Creating Classes and objects with methods\n",
    "class Dog:\n",
    "\tattr1 = \"mammal\"\n",
    "\tdef __init__(self, name):\n",
    "\t\tself.name = name\n",
    "\tdef speak(self):\n",
    "\t\tprint(\"My name is {}\".format(self.name))\n",
    "Rodger = Dog(\"Rodger\")\n",
    "Tommy = Dog(\"Tommy\")\n",
    "Rodger.speak()\n",
    "Tommy.speak()"
   ]
  },
  {
   "cell_type": "code",
   "execution_count": null,
   "id": "33640846-7646-4514-ac91-0a4c5058a109",
   "metadata": {},
   "outputs": [],
   "source": [
    "def even(num):\n",
    "    even = []\n",
    "    for x in num:\n",
    "        if x % 2 == 0:\n",
    "            even.append(x)\n",
    "        else:\n",
    "            pass\n",
    "    return even\n"
   ]
  },
  {
   "cell_type": "code",
   "execution_count": null,
   "id": "b08c24ad-b4d3-4331-8aa0-a6b9e463243a",
   "metadata": {},
   "outputs": [],
   "source": [
    "even([1,2,3,4,5,66,69,89,45])"
   ]
  },
  {
   "cell_type": "code",
   "execution_count": null,
   "id": "4878ac76-e31d-4ead-ad83-ec88fc3a09e1",
   "metadata": {},
   "outputs": [],
   "source": [
    "class person(object):\n",
    "    def __init__(self,name,idnumber):\n",
    "        self.name = name\n",
    "        self. idnumber = idnumber\n",
    "    def display(self):\n",
    "        print(self.name)\n",
    "        print(self.idnumber)\n",
    "    def details(self):\n",
    "        print(\"name\",self.name)\n",
    "        print(\"id\",self.idnumber)\n",
    "p1 = person(\"aditya\",55)\n",
    "p1.display()\n",
    "p1.details()"
   ]
  },
  {
   "cell_type": "code",
   "execution_count": null,
   "id": "6267cd14-4a76-4945-b6a2-8dbd1bbbe82e",
   "metadata": {},
   "outputs": [],
   "source": [
    "class employee(person):\n",
    "    def __init__ (self,name,idnumber,salary,post):\n",
    "        self.salary = salary\n",
    "        self.post = post\n",
    "        person.__init__(self,name,idnumber)\n",
    "    def details(self):\n",
    "        print(\"my name is : {}\".format(self.name))\n",
    "        print(\"my id numaber is : {}\".format(self.idnumber))\n",
    "        print(\"post : {}\".format(self.post))\n",
    "a = employee('rahul',886012,20000,\"intern\")\n",
    "a.display()\n",
    "a.details()"
   ]
  },
  {
   "cell_type": "code",
   "execution_count": null,
   "id": "ecc66dfd-6da5-4407-827c-6ecb492f9c2c",
   "metadata": {},
   "outputs": [],
   "source": [
    "class Dad:\n",
    "    def __init__(self):\n",
    "        pass\n",
    "    def work(self):\n",
    "        print(\"Dad goes to work\")\n",
    "    def hobby(self):\n",
    "        print(\"Dad loves fishing\")\n",
    "class Mom:\n",
    "    def __init__(self):\n",
    "        pass\n",
    "    def cook(self):\n",
    "        print(\"Mom cooks meat\")\n",
    "    def wash(self):\n",
    "        print(\"Mom is washing sclothes\")\n",
    "class Child(Dad, Mom):\n",
    "    def __init__(self):\n",
    "        Dad.__init__(self)\n",
    "        Mom.__init__(self)\n",
    "        print(\"vinita\")\n",
    "    def play(self):\n",
    "        print(\"valo kehlte!!\")\n",
    "    def parentmethods(self):\n",
    "        self.work() \n",
    "        self.cook()  \n",
    "class GrandChildren(Child):\n",
    "    def __init__(self):\n",
    "        super().__init__()\n",
    "        print(\"vansh\")\n",
    "    def study(self):\n",
    "        print(\"Grandchild studies hard.\")\n",
    "    def allmethods(self):\n",
    "        self.work()  \n",
    "        self.cook() \n",
    "        self.play()  \n",
    "        self.study()  \n",
    "print(\"Child :\")\n",
    "kid = Child()\n",
    "kid.parentmethods()\n",
    "print(\"\\nGrandChildren : \")\n",
    "grandkid = GrandChildren()\n",
    "grandkid.allmethods()"
   ]
  },
  {
   "cell_type": "code",
   "execution_count": null,
   "id": "f900ec70-c13f-42cc-8d6c-ca55799e7182",
   "metadata": {},
   "outputs": [],
   "source": [
    "class Play:\n",
    "    def __init__(self, sport):\n",
    "        self.sport = sport\n",
    "    def start_game(self):\n",
    "        print(\"{} game started!\".format(self.sport))\n",
    "    def play_game(self):\n",
    "        print(\"Playing {}\".format(self.sport))\n",
    "    def end_game(self):\n",
    "        print(\"{} game ended!\".format(self.sport))\n",
    "class Cricket(Play):\n",
    "    def __init__(self):\n",
    "        super().__init__(\"Cricket\")\n",
    "class Football(Play):\n",
    "    def __init__(self):\n",
    "        super().__init__(\"Football\")\n",
    "if __name__ == \"__main__\":\n",
    "    cricket = Cricket()\n",
    "    football = Football()\n",
    "    cricket.start_game()\n",
    "    cricket.play_game()\n",
    "    cricket.end_game()\n",
    "    print()\n",
    "    football.start_game()\n",
    "    football.play_game()\n",
    "    football.end_game()\n"
   ]
  },
  {
   "cell_type": "code",
   "execution_count": null,
   "id": "f16abf12-3d6c-4053-a4b2-f3dee9495254",
   "metadata": {},
   "outputs": [],
   "source": [
    "class parentlist:\n",
    "    def __init__(self, data):\n",
    "        self.data = data\n",
    "    def display(self):\n",
    "        print(\"orhjinal list:\", self.data)\n",
    "\n",
    "class childlist(parentlist):\n",
    "    def reverse_list(self):\n",
    "        return self.data[::-1]\n",
    "\n",
    "    def sort_ascending(self):\n",
    "        return sorted(self.data)\n",
    "    def sort_descending(self):\n",
    "        return sorted(self.data, reverse=True)\n",
    "obj1 = childlist([10, 5, 30, 20])\n",
    "obj2 = childlist([7, 3, 9, 1])\n",
    "obj3 = childlist([50, 40, 60, 30])\n",
    "obj1.display()\n",
    "print(\"Reversed:\", obj1.reverse_list())\n",
    "print(\"Ascending:\", obj1.sort_ascending())\n",
    "print(\"Descending:\", obj1.sort_descending())\n",
    "print(\"\")\n",
    "obj2.display()\n",
    "print(\"Reversed:\", obj2.reverse_list())\n",
    "print(\"Ascending:\", obj2.sort_ascending())\n",
    "print(\"Descending:\", obj2.sort_descending())\n",
    "print(\"\")\n",
    "obj3.display()\n",
    "print(\"Reversed:\", obj3.reverse_list())\n",
    "print(\"Ascending:\", obj3.sort_ascending())\n",
    "print(\"Descending:\", obj3.sort_descending())\n"
   ]
  },
  {
   "cell_type": "code",
   "execution_count": null,
   "id": "b21f3a2b-d9ea-44b6-89d7-5122187de272",
   "metadata": {},
   "outputs": [],
   "source": [
    "class community:\n",
    "    def message(self):\n",
    "        pass\n",
    "\n",
    "class Facebook(community):\n",
    "    def message(self):\n",
    "        print(\"This is Facebook community\")\n",
    "\n",
    "class Instagram(community):\n",
    "    def message(self):\n",
    "        print(\"This is Instagram community\")\n",
    "\n",
    "class WhatsApp(community):\n",
    "    def message(self):\n",
    "        print(\"This is WhatsApp community\")\n",
    "\n",
    "if __name__ == \"__main__\":\n",
    "    platforms = [Facebook(), Instagram(), WhatsApp()]\n",
    "    \n",
    "    for platform in platforms:\n",
    "        platform.message()\n"
   ]
  },
  {
   "cell_type": "code",
   "execution_count": null,
   "id": "2d56550f-82d9-41a6-bd0a-cf08dc54a954",
   "metadata": {},
   "outputs": [],
   "source": [
    "def calculator(op, a, b):\n",
    "    match op:\n",
    "        case \"+\":\n",
    "            return a + b\n",
    "        case \"-\":\n",
    "            return a - b\n",
    "        case \"*\":\n",
    "            return a * b\n",
    "        case \"/\":\n",
    "            return a / b if b != 0 else \"Division by zero!!!\"\n",
    "        case _:\n",
    "            return \"Enter a valid operation!!!\"\n",
    "\n",
    "op = input(\"Enter operation: \")\n",
    "a = int(input(\"Enter value of num1: \"))\n",
    "b = int(input(\"Enter value of num2: \"))\n",
    "result = calculator(op, a, b)\n",
    "print(\"result:\", result)\n",
    "\n",
    "while True:\n",
    "    ch = input(\"Enter new operation (press exit to end): \")\n",
    "    if ch == \"exit\":\n",
    "        print(\"Final result =\", result)\n",
    "        break\n",
    "    num3 = int(input(\"Enter value of num3: \"))\n",
    "    match ch:\n",
    "        case \"+\":\n",
    "            result = calculator(ch, result, num3)\n",
    "        case \"-\":\n",
    "            result = calculator(ch, result, num3)\n",
    "        case \"*\":\n",
    "            result = calculator(ch, result, num3)\n",
    "        case \"/\":\n",
    "            if num3 != 0:\n",
    "                result = calculator(ch, result, num3) \n",
    "            else:\n",
    "                print(\"Enter a valid number!!!\")\n",
    "        case _:\n",
    "            print(\"Invalid input!!!\")\n",
    "    print(\"Updated result:\", result)\n"
   ]
  },
  {
   "cell_type": "code",
   "execution_count": null,
   "id": "75346da9-8b57-48f2-850e-61c322afac3d",
   "metadata": {},
   "outputs": [],
   "source": [
    "def calculator(op, a, b):\n",
    "    if op == \"+\":\n",
    "        return a + b\n",
    "    elif op == \"-\":\n",
    "        return a - b\n",
    "    elif op == \"*\":\n",
    "        return a * b\n",
    "    elif op == \"/\":\n",
    "        if b != 0 :  \n",
    "             return a / b\n",
    "        else:\n",
    "            print(\"Division by zero!!!\")\n",
    "    else:\n",
    "        print(\"Enter a valid operation!!!\")\n",
    "op = input(\"Enter operation : \")\n",
    "a = int(input(\"Enter value of num1: \"))\n",
    "b = int(input(\"Enter value of num2: \"))\n",
    "result = calculator(op,a,b)\n",
    "print(\"result: \",result)\n",
    "while True:\n",
    "    ch = input(\"enter new operation(press exit to end): \")\n",
    "    num3 = int(input(\"enter value of num3: \"))\n",
    "    if ch == \"exit\":\n",
    "        print(\"result = {}\".format(result))\n",
    "        exit()\n",
    "    elif ch == \"+\":\n",
    "        result == calculator(op,result,num3)\n",
    "    elif ch == \"-\":\n",
    "        result == calculator(op,result,num3)\n",
    "    elif ch == \"*\":\n",
    "        result == calculator(op,result,num3)\n",
    "    elif ch == \"/\":\n",
    "        if num3 != 0 :\n",
    "            result == calculator(op,result,num3)\n",
    "        else:\n",
    "            print(\"enter valid number!!!\")\n",
    "    else: \n",
    "        print(\"invalid input!!!\")\n",
    "        result == calculator(op,result,num3)\n"
   ]
  },
  {
   "cell_type": "code",
   "execution_count": null,
   "id": "b9c09415-89cb-41dc-a383-0c2ca3c209b3",
   "metadata": {},
   "outputs": [],
   "source": [
    "import random\n",
    "number = random.randint(1, 100)\n",
    "attempts = 5\n",
    "print('''Guess the number between 1 and 100.\n",
    "You have only 5 attempt''')\n",
    "while attempts > 0:\n",
    "    guess = int(input(\"Enter your guess: \"))\n",
    "    if guess == number:\n",
    "        print(\"Guessed number is correct!!\")\n",
    "        break\n",
    "    elif guess < number:\n",
    "        print(\"Too low! Try a higher number.\")\n",
    "    else:\n",
    "        print(\"Too high! Try a lower number.\")\n",
    "    attempts -= 1\n",
    "    print(\"Attempts left:\".format(attempts))\n",
    "if attempts == 0:\n",
    "    print(\"Out of attempt!!! The correct number was {}\".format(number))\n"
   ]
  },
  {
   "cell_type": "code",
   "execution_count": null,
   "id": "cb236a8c-38a0-413e-b258-1b01bc13384b",
   "metadata": {},
   "outputs": [],
   "source": [
    "def calculator(op, a, b):\n",
    "    if op == \"+\":\n",
    "        return a + b\n",
    "    elif op == \"-\":\n",
    "        return a - b\n",
    "    elif op == \"*\":\n",
    "        return a * b\n",
    "    elif op == \"/\":\n",
    "        if b != 0:  \n",
    "            return a / b\n",
    "        else:\n",
    "            print(\"Division by zero!!!\")\n",
    "            return a \n",
    "    else:\n",
    "        print(\"Enter a valid operation!!!\")\n",
    "        return a  \n",
    "\n",
    "op = input(\"Enter operation: \")\n",
    "a = int(input(\"Enter value of num1: \"))\n",
    "b = int(input(\"Enter value of num2: \"))\n",
    "result = calculator(op, a, b)\n",
    "print(\"Result:\", result)\n",
    "while True:\n",
    "    print('''enter choice exit,+,-,*,/''')\n",
    "    ch = input(\"Enter new choice: \")\n",
    "    if ch.lower() == \"exit\":\n",
    "        print(\"Final result =\", result)\n",
    "        break  \n",
    "    num3 = int(input(\"Enter value of num3: \"))\n",
    "\n",
    "    if ch in [\"+\", \"-\", \"*\", \"/\"]:\n",
    "        if ch == \"/\" and num3 == 0:\n",
    "            print(\"Enter a valid number (cannot divide by zero)!\")\n",
    "        else:\n",
    "            result = calculator(ch, result, num3)  \n",
    "            print(\"Updated Result:\", result)\n",
    "    else: \n",
    "        print(\"Invalid input!!!\")\n"
   ]
  },
  {
   "cell_type": "code",
   "execution_count": 137,
   "id": "3d79493e-3257-4bb7-884c-e720287e01a7",
   "metadata": {},
   "outputs": [
    {
     "name": "stdout",
     "output_type": "stream",
     "text": [
      "19.422549905672636\n",
      "6\n",
      "vivaan\n"
     ]
    }
   ],
   "source": [
    "import random as rand\n",
    "a = rand.random()*100 #value between 0-1\n",
    "print(a)\n",
    "b = rand.randint(1,6) #value between start to limit\n",
    "print(b)\n",
    "'''b == 1:\n",
    "    print(True)\n",
    "else:\n",
    "    print(False)'''\n",
    "True if b==1 or 3 else False\n",
    "\n",
    "#rand choice:\n",
    "names=[\"atharva\",\"jagrut\",\"vivaan\",\"aditya\",\"doshi\",\"karan\"]\n",
    "c = rand.choice(names)\n",
    "print(c)"
   ]
  },
  {
   "cell_type": "code",
   "execution_count": 161,
   "id": "ab88a279-dddf-45d7-ad63-172b2b35a048",
   "metadata": {},
   "outputs": [
    {
     "name": "stdin",
     "output_type": "stream",
     "text": [
      "enter names with spaces: aditya vivaan atharva vedant karan doshi jagrut\n"
     ]
    },
    {
     "name": "stdout",
     "output_type": "stream",
     "text": [
      "person to pay the bill is : atharva  \n",
      "        probability to pay is : 48.27227511580742\n"
     ]
    }
   ],
   "source": [
    "import random as rand\n",
    "names = input(\"enter names with spaces:\").split(\" \")\n",
    "i = rand.randint(0,len(names)-1)\n",
    "a = rand.random()*100\n",
    "print('''person to pay the bill is : {}  \n",
    "        probability to pay is : {}'''.format(names[i],a))"
   ]
  },
  {
   "cell_type": "code",
   "execution_count": 129,
   "id": "c6e00c11-2e4d-46a0-aa89-a5f0464f2b3d",
   "metadata": {},
   "outputs": [
    {
     "name": "stdout",
     "output_type": "stream",
     "text": [
      "Guess the number between 1 and 100.\n",
      "You have only 5 attempt\n"
     ]
    },
    {
     "name": "stdin",
     "output_type": "stream",
     "text": [
      "Enter your guess:  52\n"
     ]
    },
    {
     "name": "stdout",
     "output_type": "stream",
     "text": [
      "Too low! Try a higher number 🤣🤣🤣.\n",
      "Attempts left: 9\n"
     ]
    },
    {
     "name": "stdin",
     "output_type": "stream",
     "text": [
      "Enter your guess:  76\n"
     ]
    },
    {
     "name": "stdout",
     "output_type": "stream",
     "text": [
      "Too low! Try a higher number 🤣🤣🤣.\n",
      "Attempts left: 8\n"
     ]
    },
    {
     "name": "stdin",
     "output_type": "stream",
     "text": [
      "Enter your guess:  89\n"
     ]
    },
    {
     "name": "stdout",
     "output_type": "stream",
     "text": [
      "Too low! Try a higher number 🤣🤣🤣.\n",
      "Attempts left: 7\n"
     ]
    },
    {
     "name": "stdin",
     "output_type": "stream",
     "text": [
      "Enter your guess:  97\n"
     ]
    },
    {
     "name": "stdout",
     "output_type": "stream",
     "text": [
      "Too high! Try a lower number 🤣🤣🤣.\n",
      "Attempts left: 6\n"
     ]
    },
    {
     "name": "stdin",
     "output_type": "stream",
     "text": [
      "Enter your guess:  93\n"
     ]
    },
    {
     "name": "stdout",
     "output_type": "stream",
     "text": [
      "Guessed number is correct!! 🤬🤬🤬\n"
     ]
    }
   ],
   "source": [
    "import random\n",
    "number = random.randint(1,100)\n",
    "attempts = 10\n",
    "print('''Guess the number between 1 and 100.\n",
    "You have only 5 attempt''')\n",
    "while attempts > 0:\n",
    "    guess = int(input(\"Enter your guess: \"))\n",
    "    if guess == number:\n",
    "        print(\"Guessed number is correct 🤬🤬.\")\n",
    "        break\n",
    "    elif guess < number:\n",
    "        print(\"Too low! Try a higher number 🤣🤣.\")\n",
    "    else:\n",
    "        print(\"Too high! Try a lower number 🤣🤣🤣.\")\n",
    "    attempts -= 1\n",
    "    print(\"Attempts left: {}\".format(attempts))\n",
    "if attempts == 0:\n",
    "    print(\"Out of attempt!!! The correct number was {}\".format(number))\n"
   ]
  },
  {
   "cell_type": "code",
   "execution_count": 35,
   "id": "e56dbb7c-bda6-4c5e-903b-9b2f9e001021",
   "metadata": {},
   "outputs": [
    {
     "data": {
      "text/plain": [
       "[]"
      ]
     },
     "execution_count": 35,
     "metadata": {},
     "output_type": "execute_result"
    }
   ],
   "source": [
    "list1 = [1,2,3,4]\n",
    "list2 = []\n",
    "list1 = list2\n",
    "list2"
   ]
  },
  {
   "cell_type": "code",
   "execution_count": 143,
   "id": "b29af191-50e2-475f-a584-5e384da87434",
   "metadata": {},
   "outputs": [
    {
     "name": "stdin",
     "output_type": "stream",
     "text": [
      "Enter your password :  aditya@45\n"
     ]
    },
    {
     "name": "stdout",
     "output_type": "stream",
     "text": [
      "Password is correct\n"
     ]
    }
   ],
   "source": [
    "p = input(\"Enter your password : \")\n",
    "if len(p)<=8 and len(p)>=16:\n",
    "    print(\"Password must have more than 8 character: \")\n",
    "else:\n",
    "    ch = \"!@#$%^&*(),.?\\\":{}|<>\"\n",
    "    special = any(char in ch for char in p)\n",
    "    letter = any(char.isalpha() for char in p)\n",
    "    digit = any(char.isdigit() for char in p)\n",
    "    if(special==False or letter==False or digit==False):\n",
    "        print(\"Password is not according to the conditions, please try again!!\")\n",
    "    else:\n",
    "        print(\"Password is correct\")"
   ]
  },
  {
   "cell_type": "code",
   "execution_count": 151,
   "id": "62d5e633-4036-4a93-8c9d-dfc42bed7cbc",
   "metadata": {},
   "outputs": [
    {
     "name": "stdin",
     "output_type": "stream",
     "text": [
      "Enter a number:  888\n"
     ]
    },
    {
     "name": "stdout",
     "output_type": "stream",
     "text": [
      "result: 8\n"
     ]
    }
   ],
   "source": [
    "num = input(\"Enter a number: \")\n",
    "result = 0\n",
    "used = set()  \n",
    "for x in num:\n",
    "    if x not in used:\n",
    "        result = result + int(x)\n",
    "        used.add(x)  \n",
    "print(\"result:\", result)\n"
   ]
  },
  {
   "cell_type": "code",
   "execution_count": 167,
   "id": "b3685124-6215-4d2c-9bb5-0fa47ccd217a",
   "metadata": {},
   "outputs": [
    {
     "name": "stdout",
     "output_type": "stream",
     "text": [
      "a=3  d=1  i=1  t=1  y=1  w=1  s=1  h=1  e=2  r=1  "
     ]
    }
   ],
   "source": [
    "st= \"aditya was here!!!\"\n",
    "alphacount = {}\n",
    "for x in st:\n",
    "    if x.isalpha():    \n",
    "        if x in alphacount:\n",
    "            alphacount[x] = alphacount[x] +  1 \n",
    "        else:\n",
    "            alphacount[x] = 1  \n",
    "for x in alphacount:\n",
    "    print(\"{}={}  \".format(x,alphacount[x]),end=\"\")"
   ]
  },
  {
   "cell_type": "code",
   "execution_count": 179,
   "id": "c9b67bc2-3bbd-467f-a91f-107f04637942",
   "metadata": {},
   "outputs": [
    {
     "name": "stdout",
     "output_type": "stream",
     "text": [
      "[1, 2, 'fizz', 4, 'buzz']\n"
     ]
    }
   ],
   "source": [
    "my_list = [1, 2, 3, 4, 5]\n",
    "new_list = []\n",
    "for i in my_list:\n",
    "    if i % 3 == 0:  \n",
    "        new_list.append(\"fizz\")\n",
    "    elif i % 5 == 0:  \n",
    "        new_list.append(\"buzz\")\n",
    "    else:\n",
    "        new_list.append(i)\n",
    "print(new_list)\n"
   ]
  },
  {
   "cell_type": "code",
   "execution_count": 185,
   "id": "ea3c676a-f815-4ebb-adbf-6fd8dc2913b3",
   "metadata": {},
   "outputs": [
    {
     "name": "stdin",
     "output_type": "stream",
     "text": [
      "enter the length of password:  10\n"
     ]
    },
    {
     "name": "stdout",
     "output_type": "stream",
     "text": [
      "aY{.{|-;5Z\n"
     ]
    }
   ],
   "source": [
    "import random as rand\n",
    "password = \"\"\n",
    "pass_length = int(input(\"enter the length of password: \"))\n",
    "if 8 < pass_length < 16:\n",
    "    for i in range(pass_length):\n",
    "        letter = chr(rand.randint(33,126))\n",
    "        password = password + letter\n",
    "else:\n",
    "    print(\"password length less than 8!!!\")\n",
    "print(password)"
   ]
  },
  {
   "cell_type": "code",
   "execution_count": 191,
   "id": "3c3f9ca1-187f-44e8-879d-689ee4adb8f6",
   "metadata": {},
   "outputs": [
    {
     "name": "stdin",
     "output_type": "stream",
     "text": [
      "enter your choice:  scissor\n"
     ]
    },
    {
     "name": "stdout",
     "output_type": "stream",
     "text": [
      "user choose: scissor\n",
      "computer choose: paper\n",
      "user wins\n"
     ]
    }
   ],
   "source": [
    "import random as rand\n",
    "choice = [\"rock\",\"paper\",\"scissor\"]\n",
    "user = input(\"enter your choice: \")\n",
    "comp = rand.choice(choice)\n",
    "print(\"user choose: {}\".format(user))\n",
    "print(\"computer choose: {}\".format(comp))\n",
    "if user == comp:\n",
    "    print(\"draw\")\n",
    "elif user == \"rock\" and comp == \"scissor\":\n",
    "    print(\"user wins\")\n",
    "elif user == \"paper\" and comp == \"rock\":\n",
    "    print(\"user wins\")\n",
    "elif user == \"scissor\" and comp == \"paper\":\n",
    "    print(\"user wins\")\n",
    "else:\n",
    "    print(\"computer wins\")"
   ]
  },
  {
   "cell_type": "code",
   "execution_count": 205,
   "id": "b81eacf7-cf51-42f9-a60e-5fe36eaca268",
   "metadata": {},
   "outputs": [
    {
     "name": "stdin",
     "output_type": "stream",
     "text": [
      "enter your choice:  rock\n"
     ]
    },
    {
     "name": "stdout",
     "output_type": "stream",
     "text": [
      "user choose: rock\n",
      "computer choose: scissor\n",
      "user wins 🎉\n"
     ]
    },
    {
     "name": "stdin",
     "output_type": "stream",
     "text": [
      "continue y/n scissor\n"
     ]
    },
    {
     "name": "stdout",
     "output_type": "stream",
     "text": [
      "wrong input: System crash 💀\n"
     ]
    }
   ],
   "source": [
    "import random as rand\n",
    "while True:    \n",
    "    choice = [\"rock\",\"paper\",\"scissor\"]\n",
    "    user = input(\"enter your choice: \")\n",
    "    comp = rand.choice(choice)\n",
    "    print(\"user choose: {}\".format(user))\n",
    "    print(\"computer choose: {}\".format(comp))\n",
    "    if user == comp:\n",
    "        print(\"draw ⚔️\")\n",
    "    elif user == \"rock\" and comp == \"scissor\":\n",
    "        print(\"user wins 🎉\")\n",
    "    elif user == \"paper\" and comp == \"rock\":\n",
    "        print(\"user wins 🎉\")\n",
    "    elif user == \"scissor\" and comp == \"paper\":\n",
    "        print(\"user wins 🎉\")\n",
    "    else:\n",
    "        print(\"computer wins\")\n",
    "    x = input(\"continue y/n\").lower()\n",
    "    if x == \"y\":\n",
    "        continue\n",
    "    elif x == \"n\":\n",
    "        print(\"exiting.....\")\n",
    "        break\n",
    "    else:\n",
    "        print(\"wrong input: System crash 💀\")\n",
    "        break"
   ]
  },
  {
   "cell_type": "code",
   "execution_count": null,
   "id": "fbf5dd46-4dce-4f05-9d3b-9033f4bb4851",
   "metadata": {},
   "outputs": [],
   "source": []
  }
 ],
 "metadata": {
  "kernelspec": {
   "display_name": "Python [conda env:base] *",
   "language": "python",
   "name": "conda-base-py"
  },
  "language_info": {
   "codemirror_mode": {
    "name": "ipython",
    "version": 3
   },
   "file_extension": ".py",
   "mimetype": "text/x-python",
   "name": "python",
   "nbconvert_exporter": "python",
   "pygments_lexer": "ipython3",
   "version": "3.12.4"
  }
 },
 "nbformat": 4,
 "nbformat_minor": 5
}
