{
 "cells": [
  {
   "cell_type": "code",
   "execution_count": 11,
   "id": "8af0359b-56e7-4324-9ccf-4b6482f89c4a",
   "metadata": {},
   "outputs": [
    {
     "name": "stdout",
     "output_type": "stream",
     "text": [
      "Euclid (/ˈjuːklɪd/; Ancient Greek: Εὐκλείδης; fl. 300 BC) was an ancient Greek mathematician active as a geometer and logician.[2] Considered the \"father of geometry\",[3] he is chiefly known for the Elements treatise,\n"
     ]
    }
   ],
   "source": [
    "def file_read_content(path):\n",
    "    try:\n",
    "        with open(path, 'r', encoding='utf-8') as file:  \n",
    "            return file.read()\n",
    "    except FileNotFoundError:\n",
    "        return \"Error: File not found!!!\"\n",
    "    except PermissionError:\n",
    "        return \"Error: Program does not have permission to read the file!!!\"\n",
    "    except UnicodeDecodeError:\n",
    "        return \"Error: Cannot decode file, possibly due to incompatible encoding!!!\"\n",
    "    except Exception as e:\n",
    "        return \"Error: {}\".format(e)\n",
    "path = 'test.txt'\n",
    "print(file_read_content(path))"
   ]
  },
  {
   "cell_type": "code",
   "execution_count": 33,
   "id": "f785df52-00ce-4aac-831e-eaa38e191ed5",
   "metadata": {},
   "outputs": [
    {
     "name": "stdin",
     "output_type": "stream",
     "text": [
      "Enter elements separated by space:  4 8 9 6 5 7 1 4 5 6 8 9\n"
     ]
    },
    {
     "name": "stdout",
     "output_type": "stream",
     "text": [
      "List with no duplication elements: ['4', '8', '9', '6', '5', '7', '1']\n"
     ]
    }
   ],
   "source": [
    "user_input = input(\"Enter elements separated by space: \").split(\" \")\n",
    "unique = []\n",
    "for i in user_input:  \n",
    "    if i not in unique:\n",
    "        unique.append(i)\n",
    "print(\"List with no duplication elements:\", unique)"
   ]
  },
  {
   "cell_type": "code",
   "execution_count": 35,
   "id": "dde541a7-1c7b-4707-9b17-8b5d93424bf3",
   "metadata": {},
   "outputs": [
    {
     "name": "stdout",
     "output_type": "stream",
     "text": [
      "13\n"
     ]
    }
   ],
   "source": [
    "print(len('hello, world!'))"
   ]
  },
  {
   "cell_type": "code",
   "execution_count": 37,
   "id": "0d425729-c350-49af-b861-1135c8e9266e",
   "metadata": {},
   "outputs": [
    {
     "ename": "SyntaxError",
     "evalue": "invalid syntax (422309343.py, line 1)",
     "output_type": "error",
     "traceback": [
      "\u001b[1;36m  Cell \u001b[1;32mIn[37], line 1\u001b[1;36m\u001b[0m\n\u001b[1;33m    print `10-3`\u001b[0m\n\u001b[1;37m          ^\u001b[0m\n\u001b[1;31mSyntaxError\u001b[0m\u001b[1;31m:\u001b[0m invalid syntax\n"
     ]
    }
   ],
   "source": [
    "print `10-3`"
   ]
  },
  {
   "cell_type": "code",
   "execution_count": 39,
   "id": "396e3d48-b459-40b4-b45f-3a0a085928eb",
   "metadata": {},
   "outputs": [
    {
     "name": "stdout",
     "output_type": "stream",
     "text": [
      "2\n"
     ]
    }
   ],
   "source": [
    "print(5//2)"
   ]
  },
  {
   "cell_type": "code",
   "execution_count": null,
   "id": "26b8ad30-3002-4adc-a902-d225bcfab5af",
   "metadata": {},
   "outputs": [],
   "source": []
  }
 ],
 "metadata": {
  "kernelspec": {
   "display_name": "Python [conda env:base] *",
   "language": "python",
   "name": "conda-base-py"
  },
  "language_info": {
   "codemirror_mode": {
    "name": "ipython",
    "version": 3
   },
   "file_extension": ".py",
   "mimetype": "text/x-python",
   "name": "python",
   "nbconvert_exporter": "python",
   "pygments_lexer": "ipython3",
   "version": "3.12.4"
  }
 },
 "nbformat": 4,
 "nbformat_minor": 5
}
