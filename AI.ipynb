{
 "cells": [
  {
   "cell_type": "code",
   "execution_count": 1,
   "id": "33d4484a-38b5-4d7c-a263-8d3f1cfbfc63",
   "metadata": {},
   "outputs": [
    {
     "name": "stdout",
     "output_type": "stream",
     "text": [
      "Requirement already satisfied: numpy in c:\\users\\victus\\anaconda3\\lib\\site-packages (1.26.4)\n",
      "Requirement already satisfied: pandas in c:\\users\\victus\\anaconda3\\lib\\site-packages (2.2.3)\n",
      "Requirement already satisfied: matplotlib in c:\\users\\victus\\anaconda3\\lib\\site-packages (3.10.0)\n",
      "Requirement already satisfied: scikit-learn in c:\\users\\victus\\anaconda3\\lib\\site-packages (1.5.2)\n",
      "Requirement already satisfied: python-dateutil>=2.8.2 in c:\\users\\victus\\anaconda3\\lib\\site-packages (from pandas) (2.9.0.post0)\n",
      "Requirement already satisfied: pytz>=2020.1 in c:\\users\\victus\\anaconda3\\lib\\site-packages (from pandas) (2024.1)\n",
      "Requirement already satisfied: tzdata>=2022.7 in c:\\users\\victus\\anaconda3\\lib\\site-packages (from pandas) (2023.3)\n",
      "Requirement already satisfied: contourpy>=1.0.1 in c:\\users\\victus\\anaconda3\\lib\\site-packages (from matplotlib) (1.3.1)\n",
      "Requirement already satisfied: cycler>=0.10 in c:\\users\\victus\\anaconda3\\lib\\site-packages (from matplotlib) (0.11.0)\n",
      "Requirement already satisfied: fonttools>=4.22.0 in c:\\users\\victus\\anaconda3\\lib\\site-packages (from matplotlib) (4.51.0)\n",
      "Requirement already satisfied: kiwisolver>=1.3.1 in c:\\users\\victus\\anaconda3\\lib\\site-packages (from matplotlib) (1.4.4)\n",
      "Requirement already satisfied: packaging>=20.0 in c:\\users\\victus\\anaconda3\\lib\\site-packages (from matplotlib) (24.2)\n",
      "Requirement already satisfied: pillow>=8 in c:\\users\\victus\\anaconda3\\lib\\site-packages (from matplotlib) (11.0.0)\n",
      "Requirement already satisfied: pyparsing>=2.3.1 in c:\\users\\victus\\anaconda3\\lib\\site-packages (from matplotlib) (3.2.0)\n",
      "Requirement already satisfied: scipy>=1.6.0 in c:\\users\\victus\\anaconda3\\lib\\site-packages (from scikit-learn) (1.14.1)\n",
      "Requirement already satisfied: joblib>=1.2.0 in c:\\users\\victus\\anaconda3\\lib\\site-packages (from scikit-learn) (1.4.2)\n",
      "Requirement already satisfied: threadpoolctl>=3.1.0 in c:\\users\\victus\\anaconda3\\lib\\site-packages (from scikit-learn) (3.5.0)\n",
      "Requirement already satisfied: six>=1.5 in c:\\users\\victus\\anaconda3\\lib\\site-packages (from python-dateutil>=2.8.2->pandas) (1.16.0)\n"
     ]
    }
   ],
   "source": [
    "!pip install numpy pandas matplotlib scikit-learn\n"
   ]
  },
  {
   "cell_type": "code",
   "execution_count": 3,
   "id": "159b8efd-27ff-44c6-8ccc-0404cbe2a764",
   "metadata": {},
   "outputs": [
    {
     "name": "stdout",
     "output_type": "stream",
     "text": [
      "[7 9 9 2]\n"
     ]
    }
   ],
   "source": [
    "import numpy as np \n",
    "a = np.array([7,9,9,2])\n",
    "print(a)"
   ]
  },
  {
   "cell_type": "code",
   "execution_count": 5,
   "id": "fc99e717-52be-4ad7-b519-ed5eb090e3fb",
   "metadata": {},
   "outputs": [
    {
     "name": "stdout",
     "output_type": "stream",
     "text": [
      "[[7 9 9 2]\n",
      " [7 5 6 3]]\n"
     ]
    }
   ],
   "source": [
    "import numpy as np \n",
    "a = np.array([(7,9,9,2),(7,5,6,3)])\n",
    "print(a)"
   ]
  },
  {
   "cell_type": "code",
   "execution_count": 9,
   "id": "271286cf-662d-4921-94b7-c0f7d8987840",
   "metadata": {},
   "outputs": [
    {
     "name": "stdout",
     "output_type": "stream",
     "text": [
      "10\n",
      "[1.  1.8 2.6 3.4 4.2 5. ]\n"
     ]
    }
   ],
   "source": [
    "c = np.array(10)\n",
    "d = np.linspace(1,5,6)\n",
    "print(c)\n",
    "print(d)"
   ]
  },
  {
   "cell_type": "code",
   "execution_count": 17,
   "id": "91c24b0c-d1f5-47fb-be29-acb16f6df68d",
   "metadata": {},
   "outputs": [
    {
     "name": "stdout",
     "output_type": "stream",
     "text": [
      "for a:\n",
      "1\n",
      "4\n",
      "int32\n",
      "16\n",
      "4\n",
      "(4,)\n",
      "for b:\n",
      "2\n",
      "4\n",
      "int32\n",
      "32\n",
      "8\n",
      "(2, 4)\n"
     ]
    }
   ],
   "source": [
    "a=np.array([5,6,8,9])\n",
    "b = np.array([(5,8,9,6),(1,2,3,4)])\n",
    "print(\"for a:\")\n",
    "print(a.ndim)\n",
    "print(a.itemsize)\n",
    "print(a.dtype)\n",
    "print(a.size*a.itemsize)\n",
    "print(a.size)\n",
    "print(a.shape)\n",
    "\n",
    "print(\"for b:\")\n",
    "print(b.ndim)\n",
    "print(b.itemsize)\n",
    "print(b.dtype)\n",
    "print(b.size*a.itemsize)\n",
    "print(b.size)\n",
    "print(b.shape)\n",
    "\n"
   ]
  },
  {
   "cell_type": "code",
   "execution_count": 23,
   "id": "e4e13be3-f885-48f6-be49-d287722b1474",
   "metadata": {},
   "outputs": [
    {
     "name": "stdout",
     "output_type": "stream",
     "text": [
      "[[7 9 9 5]\n",
      " [7 2 6 8]]\n",
      "AFTER RESHAPING:\n",
      "[[7 9]\n",
      " [9 5]\n",
      " [7 2]\n",
      " [6 8]]\n"
     ]
    }
   ],
   "source": [
    "b = np.array([(7,9,9,5),(7,2,6,8)])\n",
    "print(b)\n",
    "print(\"AFTER RESHAPING:\")\n",
    "b = b.reshape(4,2)\n",
    "print(b)"
   ]
  },
  {
   "cell_type": "code",
   "execution_count": 27,
   "id": "33d16fb8-06a5-46b6-bec8-ad991c76f038",
   "metadata": {},
   "outputs": [
    {
     "name": "stdout",
     "output_type": "stream",
     "text": [
      "9\n",
      "[9 9]\n"
     ]
    }
   ],
   "source": [
    "b = np.array([(7,9,9,2),(16,11,9,6)])\n",
    "print(b[0,2])\n",
    "print(b[0:,2])"
   ]
  },
  {
   "cell_type": "code",
   "execution_count": 29,
   "id": "ccd00b58-762e-4484-8b14-9a887d55e543",
   "metadata": {},
   "outputs": [
    {
     "name": "stdout",
     "output_type": "stream",
     "text": [
      "2\n",
      "16\n",
      "69\n"
     ]
    }
   ],
   "source": [
    "e = np.array([(7,9,9,2,16,11,9,6)])\n",
    "print(e.min())\n",
    "print(e.max())\n",
    "print(e.sum())"
   ]
  },
  {
   "cell_type": "code",
   "execution_count": 31,
   "id": "6be98366-ea0b-40f8-99cb-13d55e5b0eac",
   "metadata": {},
   "outputs": [
    {
     "name": "stdout",
     "output_type": "stream",
     "text": [
      "[ 6 10 12 10]\n",
      "[28 10]\n",
      "[2.23606798 2.44948974 2.82842712 3.        ]\n",
      "1.5811388300841898\n",
      "[ 148.4131591   403.42879349 2980.95798704 8103.08392758]\n",
      "[1.60943791 1.79175947 2.07944154 2.19722458]\n",
      "[0.69897    0.77815125 0.90308999 0.95424251]\n"
     ]
    }
   ],
   "source": [
    "a=np.array([5,6,8,9])\n",
    "b = np.array([(5,8,9,6),(1,2,3,4)])\n",
    "print(b.sum(axis=0))\n",
    "print(b.sum(axis=1))\n",
    "print(np.sqrt(a))\n",
    "print(np.std(a))\n",
    "print(np.exp(a))\n",
    "print(np.log(a))\n",
    "print(np.log10(a))\n",
    "\n"
   ]
  },
  {
   "cell_type": "code",
   "execution_count": 39,
   "id": "73f29515-9216-48b4-b08a-df6447110b8b",
   "metadata": {},
   "outputs": [
    {
     "name": "stdout",
     "output_type": "stream",
     "text": [
      "[[5 8 9 6]\n",
      " [1 2 3 4]\n",
      " [2 8 6 7]\n",
      " [8 3 6 6]]\n",
      " \n",
      "[[5 8 9 6 2 8 6 7]\n",
      " [1 2 3 4 8 3 6 6]]\n",
      " \n",
      "[5 8 9 6 1 2 3 4]\n",
      " \n",
      "[2 8 6 7 8 3 6 6]\n"
     ]
    }
   ],
   "source": [
    "b = np.array([(5,8,9,6),(1,2,3,4)])\n",
    "f = np.array([(2,8,6,7),(8,3,6,6)])\n",
    "print(np.vstack((b,f)))\n",
    "print(\" \")\n",
    "print(np.hstack((b,f)))\n",
    "print(\" \")\n",
    "print(b.ravel())\n",
    "print(\" \")\n",
    "print(f.ravel())\n",
    "\n",
    "\n"
   ]
  },
  {
   "cell_type": "raw",
   "id": "86569956-b478-4cbf-9060-f388183cfa33",
   "metadata": {},
   "source": []
  },
  {
   "cell_type": "code",
   "execution_count": 41,
   "id": "0fa3e0dc-e247-4ab8-b430-da77a26e5239",
   "metadata": {},
   "outputs": [
    {
     "name": "stdout",
     "output_type": "stream",
     "text": [
      "[0. 0. 0. 0. 0.]\n"
     ]
    }
   ],
   "source": [
    "zeros = np.zeros(5)\n",
    "print(zeros)"
   ]
  },
  {
   "cell_type": "code",
   "execution_count": 57,
   "id": "4c48b059-eed8-4188-9861-2062afd3cdc9",
   "metadata": {},
   "outputs": [
    {
     "name": "stdout",
     "output_type": "stream",
     "text": [
      "[5.6 6.6 7.6 8.6 9.6]\n",
      "[3.         3.33333333 3.66666667 4.         4.33333333 4.66666667\n",
      " 5.         5.33333333 5.66666667 6.        ]\n"
     ]
    }
   ],
   "source": [
    "ranges = np.arange(5.6,9.8)\n",
    "print(ranges)\n",
    "print(np.linspace(3,6,10))"
   ]
  },
  {
   "cell_type": "code",
   "execution_count": 61,
   "id": "2443847e-50f0-4a27-8278-154868d3b9d9",
   "metadata": {},
   "outputs": [
    {
     "name": "stdout",
     "output_type": "stream",
     "text": [
      "[[78 36 91]\n",
      " [25 36 47]]\n"
     ]
    }
   ],
   "source": [
    "matrix = np.array([[76,34,89],[23,34,45]])\n",
    "print(matrix+ 2)"
   ]
  },
  {
   "cell_type": "code",
   "execution_count": 69,
   "id": "f973cb95-1107-42e2-b898-a7425bd77b48",
   "metadata": {},
   "outputs": [
    {
     "name": "stdout",
     "output_type": "stream",
     "text": [
      "[[152  68 178]\n",
      " [ 46  68  90]]\n",
      "[[38.  17.  44.5]\n",
      " [11.5 17.  22.5]]\n",
      "[[76 23]\n",
      " [34 34]\n",
      " [89 45]]\n",
      "[23 34 45]\n"
     ]
    }
   ],
   "source": [
    "matrix = np.array([[76,34,89],[23,34,45]])\n",
    "print(matrix*2)\n",
    "print(matrix/2)\n",
    "print(matrix.T)\n",
    "print(matrix[1,])"
   ]
  },
  {
   "cell_type": "code",
   "execution_count": 81,
   "id": "a1124757-6d33-4d43-9752-863913f6aa52",
   "metadata": {},
   "outputs": [
    {
     "name": "stdout",
     "output_type": "stream",
     "text": [
      "[5 5 5 5 5 5 5 5 5 5]\n",
      " \n",
      "[[10 10]\n",
      " [10 10]]\n",
      " \n",
      "[[[5 5 5]\n",
      "  [5 5 5]]\n",
      "\n",
      " [[5 5 5]\n",
      "  [5 5 5]]]\n"
     ]
    }
   ],
   "source": [
    "full = np.full(10,5)\n",
    "print(full)\n",
    "print(\" \")\n",
    "full = np.full((2,2),10)\n",
    "print(full)\n",
    "print(\" \")\n",
    "full = np.full((2,2,3),5)\n",
    "print(full)"
   ]
  },
  {
   "cell_type": "code",
   "execution_count": 83,
   "id": "a7cb56e0-0019-4fe8-a766-94077c55971e",
   "metadata": {},
   "outputs": [
    {
     "data": {
      "text/plain": [
       "[[22, 56, 48, 96], [55, 22, 33, 66], [21, 55, 47, 95], [55, 22, 33, 66]]"
      ]
     },
     "execution_count": 83,
     "metadata": {},
     "output_type": "execute_result"
    }
   ],
   "source": [
    "pythonlist1 = [[22,56,48,96],[55,22,33,66]]\n",
    "pythonlist2 = [[21,55,47,95],[55,22,33,66]]\n",
    "pythonlist1 + pythonlist2\n"
   ]
  },
  {
   "cell_type": "code",
   "execution_count": 98,
   "id": "f4a05ebc-0349-4961-801e-addbfd3dfd2f",
   "metadata": {},
   "outputs": [
    {
     "name": "stdout",
     "output_type": "stream",
     "text": [
      "[[ 8 13 12 11  5]\n",
      " [12  5  7  5  7]]\n",
      " \n",
      "[[ 0 -3  0 -7  1]\n",
      " [-4 -3 -3  1  5]]\n",
      " \n",
      "[[16 40 36 18  6]\n",
      " [32  4 10  6  6]]\n",
      " \n",
      "[[1.         0.625      1.         0.22222222 1.5       ]\n",
      " [0.5        0.25       0.4        1.5        6.        ]]\n",
      " \n"
     ]
    }
   ],
   "source": [
    "matrix1 = np.array([[4,5,6,2,3],[4,1,2,3,6]])\n",
    "matrix2 = np.array([[4,8,6,9,2],[8,4,5,2,1]])\n",
    "print(matrix1 + matrix2)\n",
    "print(\" \")\n",
    "print(matrix1 - matrix2)\n",
    "print(\" \")\n",
    "print(matrix1 * matrix2)\n",
    "print(\" \")\n",
    "print(matrix1 / matrix2)\n",
    "print(\" \")"
   ]
  },
  {
   "cell_type": "code",
   "execution_count": 112,
   "id": "d677b6b6-696e-4db9-b3f3-1dee49de22a5",
   "metadata": {},
   "outputs": [
    {
     "name": "stdout",
     "output_type": "stream",
     "text": [
      "[[ 87  85  63]\n",
      " [100  25  48]\n",
      " [ 47  88  66]\n",
      " [100  23  96]]\n",
      "23\n",
      "100\n",
      "828\n",
      "69.0\n",
      "26.792411861072406\n",
      "    \n",
      "[63 25 47 23]\n",
      "[ 87 100  88 100]\n",
      "[235 173 201 219]\n",
      "[78.33333333 57.66666667 67.         73.        ]\n",
      "[10.87300429 31.37231618 16.75310916 35.39303133]\n"
     ]
    }
   ],
   "source": [
    "marks = np.array([\n",
    "    [87,85,63],[100,25,48],\n",
    "    [47,88,66],[100,23,96]\n",
    "])\n",
    "print(marks)\n",
    "print(marks.min())\n",
    "print(marks.max())\n",
    "print(marks.sum())\n",
    "print(marks.mean())\n",
    "print(marks.std())\n",
    "print(\"    \")\n",
    "print(marks.min(axis=1))\n",
    "print(marks.max(axis=1))\n",
    "print(marks.sum(axis=1))\n",
    "print(marks.mean(axis=1))\n",
    "print(marks.std(axis=1))"
   ]
  },
  {
   "cell_type": "code",
   "execution_count": 118,
   "id": "71657030-3d07-40b0-8516-9f9e9425c042",
   "metadata": {},
   "outputs": [
    {
     "name": "stdout",
     "output_type": "stream",
     "text": [
      "[[2 3 5 6]\n",
      " [2 3 5 6]]\n",
      "[2 3 5 6 2 3 5 6]\n"
     ]
    }
   ],
   "source": [
    "\n",
    "x = np.array([2, 3, 5, 6])\n",
    "y = np.array([2, 3, 5, 6])\n",
    "z = np.array([2, 3, 5, 6])\n",
    "print(np.vstack((x, z)))  \n",
    "print(np.hstack((x, z)))  # Corrected: Use (x, z) inside parentheses\n"
   ]
  },
  {
   "cell_type": "code",
   "execution_count": 120,
   "id": "429aaa0c-ac45-4a77-9b24-719ab35e8950",
   "metadata": {},
   "outputs": [
    {
     "data": {
      "text/plain": [
       "array([2, 3, 5, 6, 2, 3])"
      ]
     },
     "execution_count": 120,
     "metadata": {},
     "output_type": "execute_result"
    }
   ],
   "source": [
    "np.append(x,(2,3))"
   ]
  },
  {
   "cell_type": "code",
   "execution_count": 128,
   "id": "6c6d4d95-6cd7-482b-b7b1-6c93fd0e8bd6",
   "metadata": {},
   "outputs": [
    {
     "data": {
      "text/plain": [
       "array([[1, 2, 3],\n",
       "       [4, 5, 6],\n",
       "       [1, 2, 3],\n",
       "       [1, 2, 3]])"
      ]
     },
     "execution_count": 128,
     "metadata": {},
     "output_type": "execute_result"
    }
   ],
   "source": [
    "new_array = np.array([1,2,3])\n",
    "x = np.append([[1,2,3],[4,5,6]],[[1,2,3],new_array],axis=0)\n",
    "x"
   ]
  },
  {
   "cell_type": "code",
   "execution_count": 130,
   "id": "15338d09-a9f0-4d57-9846-abff954ce80e",
   "metadata": {},
   "outputs": [
    {
     "data": {
      "text/plain": [
       "array([[1, 4, 1, 1],\n",
       "       [2, 5, 2, 2],\n",
       "       [3, 6, 3, 3]])"
      ]
     },
     "execution_count": 130,
     "metadata": {},
     "output_type": "execute_result"
    }
   ],
   "source": [
    "np.transpose(x)"
   ]
  },
  {
   "cell_type": "code",
   "execution_count": 134,
   "id": "80837fb9-2cf9-45ca-89bd-fcb789d6a84c",
   "metadata": {},
   "outputs": [
    {
     "name": "stdout",
     "output_type": "stream",
     "text": [
      "[0 1 2 3 4 5 6]\n",
      "[False False False False False  True  True]\n"
     ]
    }
   ],
   "source": [
    "arr = np.arange(7)\n",
    "print(arr)\n",
    "print(arr > 4)"
   ]
  },
  {
   "cell_type": "code",
   "execution_count": 138,
   "id": "5714c749-1aa2-43f7-84ef-f3c31e746ba4",
   "metadata": {},
   "outputs": [
    {
     "data": {
      "text/plain": [
       "array([ 0,  1,  2,  3,  4,  5,  6,  7,  8,  9, 10, 11])"
      ]
     },
     "execution_count": 138,
     "metadata": {},
     "output_type": "execute_result"
    }
   ],
   "source": [
    "array = np.arange(12)\n",
    "array"
   ]
  },
  {
   "cell_type": "raw",
   "id": "63fc4091-3315-44b4-8c2e-7f55685bb799",
   "metadata": {},
   "source": []
  },
  {
   "cell_type": "code",
   "execution_count": 144,
   "id": "a2ff9b8b-695a-4784-8d3d-27f0f7c9b2ad",
   "metadata": {},
   "outputs": [
    {
     "name": "stdout",
     "output_type": "stream",
     "text": [
      "(3, 4)\n"
     ]
    }
   ],
   "source": [
    "array.shape = (3,4)\n",
    "print(array.shape)"
   ]
  },
  {
   "cell_type": "code",
   "execution_count": 146,
   "id": "969b12b1-663e-4fb6-a6dd-fdb95771c408",
   "metadata": {},
   "outputs": [
    {
     "data": {
      "text/plain": [
       "array([[[ 0,  1],\n",
       "        [ 2,  3],\n",
       "        [ 4,  5]],\n",
       "\n",
       "       [[ 6,  7],\n",
       "        [ 8,  9],\n",
       "        [10, 11]]])"
      ]
     },
     "execution_count": 146,
     "metadata": {},
     "output_type": "execute_result"
    }
   ],
   "source": [
    "np.arange(12).reshape((2,3,2))"
   ]
  },
  {
   "cell_type": "code",
   "execution_count": 168,
   "id": "94f74e89-ad92-4e80-a318-c7e895725ac1",
   "metadata": {},
   "outputs": [
    {
     "name": "stdout",
     "output_type": "stream",
     "text": [
      "Random Floats:\n",
      " [0.56265669 0.33771724 0.46217409 0.87896691 0.1824402 ]\n",
      "\n",
      "Random Integers:\n",
      " [[19 16 10 13  6]\n",
      " [19 11  7  7  6]\n",
      " [ 5 18  9 11 19]\n",
      " [16 12 12 14  7]\n",
      " [ 9 14 15 12  8]]\n",
      "\n",
      "Random Choices (Unique):\n",
      " ['h' 'i' 'z' 'g' 'j']\n",
      "\n",
      "Random Choices (Weighted):\n",
      " ['h' 'h' 'g' 'z' 'j']\n"
     ]
    }
   ],
   "source": [
    "rand_floats = np.random.rand(5)\n",
    "print(\"Random Floats:\\n\", rand_floats)\n",
    "rand_ints = np.random.randint(5, 20, (5, 5))\n",
    "print(\"\\nRandom Integers:\\n\", rand_ints)\n",
    "letters = ['z', 'g', 'h', 'j', 'i']\n",
    "rand_choices = np.random.choice(letters, 5, replace=False)\n",
    "print(\"\\nRandom Choices (Unique):\\n\", rand_choices)\n",
    "probabilities = [0.4, 0.3, 0.2, 0.05, 0.05]\n",
    "rand_choices = np.random.choice(letters, 5, p=probabilities)\n",
    "print(\"\\nRandom Choices (Weighted):\\n\", rand_choices)\n"
   ]
  },
  {
   "cell_type": "code",
   "execution_count": 170,
   "id": "934b7294-8372-4539-a7ab-43d2bea58612",
   "metadata": {},
   "outputs": [
    {
     "ename": "AttributeError",
     "evalue": "module 'numpy.random' has no attribute 'randit'",
     "output_type": "error",
     "traceback": [
      "\u001b[1;31m---------------------------------------------------------------------------\u001b[0m",
      "\u001b[1;31mAttributeError\u001b[0m                            Traceback (most recent call last)",
      "Cell \u001b[1;32mIn[170], line 1\u001b[0m\n\u001b[1;32m----> 1\u001b[0m array \u001b[38;5;241m=\u001b[39m np\u001b[38;5;241m.\u001b[39mrandom\u001b[38;5;241m.\u001b[39mrandit(\u001b[38;5;241m10\u001b[39m,\u001b[38;5;241m20\u001b[39m,(\u001b[38;5;241m5\u001b[39m,\u001b[38;5;241m5\u001b[39m))\n\u001b[0;32m      2\u001b[0m np\u001b[38;5;241m.\u001b[39msave(\u001b[38;5;124m'\u001b[39m\u001b[38;5;124marray_file\u001b[39m\u001b[38;5;124m'\u001b[39m,array)\n",
      "\u001b[1;31mAttributeError\u001b[0m: module 'numpy.random' has no attribute 'randit'"
     ]
    }
   ],
   "source": [
    "array = np.random.randit(10,20,(5,5))\n",
    "np.save('array_file',array)"
   ]
  },
  {
   "cell_type": "code",
   "execution_count": 1,
   "id": "b7654e60-d3c8-48c2-9422-e53725ff503d",
   "metadata": {},
   "outputs": [],
   "source": [
    "import pandas as pd\n",
    "import numpy as np"
   ]
  },
  {
   "cell_type": "code",
   "execution_count": 3,
   "id": "af888917-97c8-4c18-bf85-1c461936a80d",
   "metadata": {},
   "outputs": [
    {
     "name": "stdout",
     "output_type": "stream",
     "text": [
      "a    1\n",
      "b    2\n",
      "c    3\n",
      "d    4\n",
      "e    5\n",
      "dtype: int64\n"
     ]
    }
   ],
   "source": [
    "series1 = pd .Series([1,2,3,4,5],index=['a','b','c','d','e'])\n",
    "print(series1)"
   ]
  },
  {
   "cell_type": "code",
   "execution_count": 5,
   "id": "0232df30-9be1-42a5-b7c1-6e3c4e669251",
   "metadata": {},
   "outputs": [
    {
     "name": "stdout",
     "output_type": "stream",
     "text": [
      "a   -2.125864\n",
      "b    1.141605\n",
      "c   -1.365164\n",
      "d    0.770912\n",
      "e   -3.502042\n",
      "dtype: float64\n"
     ]
    }
   ],
   "source": [
    "series2 = pd .Series(np.random.randn(5),index=['a','b','c','d','e'])\n",
    "print(series2)"
   ]
  },
  {
   "cell_type": "code",
   "execution_count": 7,
   "id": "6e7d3aa0-56f0-46fe-9f26-72191a086016",
   "metadata": {},
   "outputs": [
    {
     "name": "stdout",
     "output_type": "stream",
     "text": [
      "a    1\n",
      "b    2\n",
      "c    3\n",
      "dtype: int64\n"
     ]
    }
   ],
   "source": [
    "dictionary = {'a':1, 'b':2, 'c':3}\n",
    "print(pd.Series(dictionary))"
   ]
  },
  {
   "cell_type": "code",
   "execution_count": 9,
   "id": "9665fbff-6d40-4049-a795-74a35b90b221",
   "metadata": {},
   "outputs": [],
   "source": [
    "#[]-series\n",
    "#[[]]-dataframe"
   ]
  },
  {
   "cell_type": "code",
   "execution_count": null,
   "id": "4ecaae60-3824-4e7d-9027-127db9379ac7",
   "metadata": {},
   "outputs": [],
   "source": []
  }
 ],
 "metadata": {
  "kernelspec": {
   "display_name": "Python [conda env:base] *",
   "language": "python",
   "name": "conda-base-py"
  },
  "language_info": {
   "codemirror_mode": {
    "name": "ipython",
    "version": 3
   },
   "file_extension": ".py",
   "mimetype": "text/x-python",
   "name": "python",
   "nbconvert_exporter": "python",
   "pygments_lexer": "ipython3",
   "version": "3.12.4"
  }
 },
 "nbformat": 4,
 "nbformat_minor": 5
}
